{
 "cells": [
  {
   "cell_type": "markdown",
   "metadata": {},
   "source": [
    "# Peace Treaties (one page)\n",
    "\n",
    "The website that I'm scraping here is a database that contains metadata on European peace treaties from 1450 to 1789. It was created as part of a project that was funded by the DFG (German Research Foundation): https://www.ieg-friedensvertraege.de/vertraege\n",
    "\n",
    "The collection contains a selection of some 1800 treaties."
   ]
  },
  {
   "cell_type": "markdown",
   "metadata": {},
   "source": [
    "### Import libraries and packeges"
   ]
  },
  {
   "cell_type": "code",
   "execution_count": 1,
   "metadata": {},
   "outputs": [],
   "source": [
    "import requests\n",
    "from requests import get\n",
    "from bs4 import BeautifulSoup\n",
    "import numpy as np\n",
    "import pandas as pd\n",
    "import re\n",
    "import csv"
   ]
  },
  {
   "cell_type": "markdown",
   "metadata": {},
   "source": [
    "**re** is not required if you don't use regex to extract text. Python3 works better for this script; Python2 doesn't handle utf-8 too well."
   ]
  },
  {
   "cell_type": "markdown",
   "metadata": {},
   "source": [
    "This is added to slow down requests rate from the website. It is probably not necessary for such a small database, but it is good practice not to stress a website with automated requests."
   ]
  },
  {
   "cell_type": "code",
   "execution_count": 2,
   "metadata": {},
   "outputs": [],
   "source": [
    "from time import sleep\n",
    "from random import randint"
   ]
  },
  {
   "cell_type": "markdown",
   "metadata": {},
   "source": [
    "### Set up the containers for capturing treaty names, thes sides involved and the dates of the treaty:"
   ]
  },
  {
   "cell_type": "code",
   "execution_count": 3,
   "metadata": {},
   "outputs": [],
   "source": [
    "treatytitles = []\n",
    "treatysides = []\n",
    "treatydates = []"
   ]
  },
  {
   "cell_type": "markdown",
   "metadata": {},
   "source": [
    "### Indicate the url\n",
    "\n",
    "You need to indicate the url of the webpage in order to scrape the data. Parser is html in this case."
   ]
  },
  {
   "cell_type": "code",
   "execution_count": 4,
   "metadata": {},
   "outputs": [],
   "source": [
    "# url = \"https://www.ieg-friedensvertraege.de/likecms.php?searchlang=de&step2onpage=3&function=process&process_target=ieg_treaty_mask_step2&site=index.html&nav=1&siteid=2&formlang=de&date=&year_from=&year_till=&location=&partner1=&partner2=&partner3=&language=&archive=&limit=&submit2=suche\"\n",
    "# results = requests.get(url) \n",
    "# soup = BeautifulSoup(results.text, \"html.parser\")"
   ]
  },
  {
   "cell_type": "markdown",
   "metadata": {},
   "source": [
    "Get **filtered results** using a different url. This alternative url is for filtered results only containing treaties involving Russia, using the website's search function. There are more elegant ways to do this, but this works, too."
   ]
  },
  {
   "cell_type": "code",
   "execution_count": 4,
   "metadata": {},
   "outputs": [],
   "source": [
    "url=\"https://www.ieg-friedensvertraege.de/likecms.php?searchlang=de&step2onpage=3&function=process&process_target=ieg_treaty_mask_step2&site=index.html&nav=1&siteid=2&formlang=de&date=&year_from=&year_till=&location=&partner1=9&partner2=&partner3=&language=&archive=&limit=&submit2=suche\"\n",
    "results = requests.get(url) \n",
    "soup = BeautifulSoup(results.text, \"html.parser\")"
   ]
  },
  {
   "cell_type": "markdown",
   "metadata": {},
   "source": [
    "### Write scraping code\n",
    "\n",
    "If you don't know how to read the html text of a website to identify your data, you should check one of the tutorials mentioned in the repository description.\n",
    "\n",
    "This is the scraping code for titles, dates, and sides. Sides was the most difficult to get, because it is not defined. It just sits between other bits of data. Apparently it always comes immediately after 'br' in td[1], so it can be grabbed with next_sibling, but that also grabs whitespace and newlines."
   ]
  },
  {
   "cell_type": "code",
   "execution_count": 5,
   "metadata": {},
   "outputs": [],
   "source": [
    "treaties = soup.find_all('tr', class_='text13')\n",
    "\n",
    "sleep(randint(2,10))\n",
    "    \n",
    "for container in treaties:\n",
    "    td = container.find_all('td')\n",
    "    \n",
    "    title = td[1].b.a.get_text() \n",
    "    treatytitles.append(title)\n",
    "    \n",
    "    sides = td[1].find('br').next_sibling #works but includes the whitespace and newline as well\n",
    "    treatysides.append(sides)\n",
    "    \n",
    "    dates = td[2].get_text()\n",
    "    treatydates.append(dates)"
   ]
  },
  {
   "cell_type": "markdown",
   "metadata": {},
   "source": [
    "**treaties** pre-defines the frame within which I will look for the data. \n",
    "If you look at web page content using Web Developer Tools in the browser, you will find that all the database information (titles, sides, and dates) can be found within a series of **tr** (table row) tags. I have further specified the class ('text13'), to make sure I get the correct table rows in case the tag is used elsewhere on the page.\n",
    "\n",
    "All subsequent searches will refer to this **treaties** container."
   ]
  },
  {
   "cell_type": "markdown",
   "metadata": {},
   "source": [
    "**sleep** is pausing requests from website. Random pause between 2-10 seconds."
   ]
  },
  {
   "cell_type": "markdown",
   "metadata": {},
   "source": [
    "Within each **tr** tag, there are three **td** (table data) tags. One for the number of the database entry (td[0]). One for the treaty title and the sides involved (td[1]), and one for the dates (td[2]). Note that counting them starts with 0!\n",
    "\n",
    "By referring to the respective **td** tag by their number, I can then further indicate where the text that I want to grab is located within that tag.\n",
    "\n",
    "The title data, for example, is located within an **a** tag that is again contained within a **b** tag. **get_text()** grabs just the text content within."
   ]
  },
  {
   "cell_type": "markdown",
   "metadata": {},
   "source": [
    "### Fill the containers with the scraped data:"
   ]
  },
  {
   "cell_type": "code",
   "execution_count": 6,
   "metadata": {},
   "outputs": [],
   "source": [
    "out_treaties = pd.DataFrame({\n",
    " 'title': treatytitles,\n",
    "'sides': treatysides,\n",
    " 'dates': treatydates\n",
    "})"
   ]
  },
  {
   "cell_type": "markdown",
   "metadata": {},
   "source": [
    "If you keep appending (because you are re-running the code, because something went wrong the first time), it piles up and has double, triple the rows, so delete and recreate containers too:"
   ]
  },
  {
   "cell_type": "code",
   "execution_count": 8,
   "metadata": {},
   "outputs": [],
   "source": [
    "#del(out_treaties)"
   ]
  },
  {
   "cell_type": "markdown",
   "metadata": {},
   "source": [
    "The following code gets rid of all newlines in the dataframe."
   ]
  },
  {
   "cell_type": "code",
   "execution_count": 7,
   "metadata": {},
   "outputs": [],
   "source": [
    "new_treaties = out_treaties.replace('\\n',' ', regex=True)"
   ]
  },
  {
   "cell_type": "markdown",
   "metadata": {},
   "source": [
    "Get a preview of the data"
   ]
  },
  {
   "cell_type": "code",
   "execution_count": 8,
   "metadata": {},
   "outputs": [
    {
     "name": "stdout",
     "output_type": "stream",
     "text": [
      "                                                title  \\\n",
      "0         Bündnis von Gmunden (verlesen: *Brunndenau)   \n",
      "1                         Waffenstillstand von Moskau   \n",
      "2                        Präliminarvertrag von Krakau   \n",
      "3                       Waffenstillstand von Nowgorod   \n",
      "4                       Waffenstillstand von Nowgorod   \n",
      "..                                                ...   \n",
      "95         Konvention über die bewaffnete Neutralität   \n",
      "96           Schiffahrtskonvention von St. Petersburg   \n",
      "97  Freundschafts- und Handelsvertrag von St. Pete...   \n",
      "98                     Friedensvertrag von Versailles   \n",
      "99  Friedensvertrag von Konstantinopel (Beta-Version)   \n",
      "\n",
      "                                                sides                 dates  \n",
      "0                                    Kaiser, Russland           1514 VIII 4  \n",
      "1                                     Polen, Russland  1522 XII 25_1523 I 4  \n",
      "2                                     Polen, Russland            1523 II 22  \n",
      "3                                  Russland, Schweden             1524 IV 3  \n",
      "4                                  Russland, Schweden      1537 III 25_IV 4  \n",
      "..                                                ...                   ...  \n",
      "95                                 Russland, Schweden    1780 VII 21_VIII 1  \n",
      "96                                 Portugal, Russland           1782 VII 13  \n",
      "97                                 Dänemark, Russland           1782 X 8_19  \n",
      "98                     Frankreich, Großbritannien,...             1783 IX 3  \n",
      "99                        Osmanisches Reich, Russland   1784 I 08 / 1198 AH  \n",
      "\n",
      "[100 rows x 3 columns]\n"
     ]
    }
   ],
   "source": [
    "print(new_treaties)"
   ]
  },
  {
   "cell_type": "markdown",
   "metadata": {},
   "source": [
    "### Export dataframe as csv file\n",
    "\n",
    "If you are happy with the results, you can export the dataframe to a CSV file."
   ]
  },
  {
   "cell_type": "code",
   "execution_count": 9,
   "metadata": {},
   "outputs": [],
   "source": [
    "new_treaties.to_csv('new_treaties_rus.csv')"
   ]
  }
 ],
 "metadata": {
  "interpreter": {
   "hash": "280c8fefae9595bca33c5d42fd7cc8408ede87eb7db18105332f30972f75c42a"
  },
  "kernelspec": {
   "display_name": "Python 3",
   "language": "python",
   "name": "python3"
  },
  "language_info": {
   "codemirror_mode": {
    "name": "ipython",
    "version": 3
   },
   "file_extension": ".py",
   "mimetype": "text/x-python",
   "name": "python",
   "nbconvert_exporter": "python",
   "pygments_lexer": "ipython3",
   "version": "3.8.5"
  }
 },
 "nbformat": 4,
 "nbformat_minor": 4
}
