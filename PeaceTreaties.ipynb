{
 "cells": [
  {
   "cell_type": "markdown",
   "metadata": {},
   "source": [
    "# Peace Treaties (one page)\n",
    "\n",
    "The website that I'm scraping here is a database that contains metadata on European peace treaties from 1450 bis 1789. It was created as part of a project that was funded by the DFG (German Research Foundation): https://www.ieg-friedensvertraege.de/vertraege\n",
    "\n",
    "The collection contains a selection of some 1800 treaties."
   ]
  },
  {
   "cell_type": "markdown",
   "metadata": {},
   "source": [
    "### Import libraries and packeges"
   ]
  },
  {
   "cell_type": "code",
   "execution_count": 1,
   "metadata": {},
   "outputs": [],
   "source": [
    "import requests\n",
    "from requests import get\n",
    "from bs4 import BeautifulSoup\n",
    "import numpy as np\n",
    "import pandas as pd\n",
    "import re\n",
    "import csv"
   ]
  },
  {
   "cell_type": "markdown",
   "metadata": {},
   "source": [
    "**re** is not required if you don't use regex to extract text. Python3 works better for this script; Python2 doesn't handle utf-8 too well."
   ]
  },
  {
   "cell_type": "markdown",
   "metadata": {},
   "source": [
    "This is added to slow down requests rate from the website. It is probably not necessary for such a small database, but it is good practice not to stress a website with automated requests."
   ]
  },
  {
   "cell_type": "code",
   "execution_count": 2,
   "metadata": {},
   "outputs": [],
   "source": [
    "from time import sleep\n",
    "from random import randint"
   ]
  },
  {
   "cell_type": "markdown",
   "metadata": {},
   "source": [
    "### Set up the containers for capturing treaty names, thes sides involved and the dates of the treaty:"
   ]
  },
  {
   "cell_type": "code",
   "execution_count": 3,
   "metadata": {},
   "outputs": [],
   "source": [
    "treatytitles = []\n",
    "treatysides = []\n",
    "treatydates = []"
   ]
  },
  {
   "cell_type": "markdown",
   "metadata": {},
   "source": [
    "### Indicate the url\n",
    "\n",
    "You need to indicate the url of the webpage in order to scrape the data. Parser is html in this case."
   ]
  },
  {
   "cell_type": "code",
   "execution_count": 4,
   "metadata": {},
   "outputs": [],
   "source": [
    "url = \"https://www.ieg-friedensvertraege.de/likecms.php?searchlang=de&step2onpage=3&function=process&process_target=ieg_treaty_mask_step2&site=index.html&nav=1&siteid=2&formlang=de&date=&year_from=&year_till=&location=&partner1=&partner2=&partner3=&language=&archive=&limit=&submit2=suche\"\n",
    "results = requests.get(url) \n",
    "soup = BeautifulSoup(results.text, \"html.parser\")"
   ]
  },
  {
   "cell_type": "markdown",
   "metadata": {},
   "source": [
    "This alternative url is for filtered results only containing treaties involving Russia, using the websites search function. There are more elegant ways to do this, but this works."
   ]
  },
  {
   "cell_type": "code",
   "execution_count": 5,
   "metadata": {},
   "outputs": [],
   "source": [
    "# url=\"https://www.ieg-friedensvertraege.de/likecms.php?searchlang=de&step2onpage=3&function=process&process_target=ieg_treaty_mask_step2&site=index.html&nav=1&siteid=2&formlang=de&date=&year_from=&year_till=&location=&partner1=9&partner2=&partner3=&language=&archive=&limit=&submit2=suche\"\n",
    "# results = requests.get(url) \n",
    "# soup = BeautifulSoup(results.text, \"html.parser\")"
   ]
  },
  {
   "cell_type": "markdown",
   "metadata": {},
   "source": [
    "### Write scraping code\n",
    "\n",
    "If you don't know how to read the html text of a website to identify your data, you should check one of the tutorials mentioned in the repository description.\n",
    "\n",
    "This is the scraping code for titles, dates, and sides. Sides was the most difficult to get, because it is not defined. It just sits between other bits of data. Apparently it always comes immediately after 'br' in td[1], so it can be grabbed with next_sibling, but that also grabs whitespace and newlines."
   ]
  },
  {
   "cell_type": "code",
   "execution_count": 6,
   "metadata": {},
   "outputs": [],
   "source": [
    "treaties = soup.find_all('tr', class_='text13')\n",
    "\n",
    "sleep(randint(2,10))\n",
    "    \n",
    "for container in treaties:\n",
    "    td = container.find_all('td')\n",
    "    \n",
    "    title = td[1].b.a.get_text() \n",
    "    treatytitles.append(title)\n",
    "    \n",
    "    sides = td[1].find('br').next_sibling #works but includes the whitespace and newline as well\n",
    "    treatysides.append(sides)\n",
    "    \n",
    "    dates = td[2].get_text()\n",
    "    treatydates.append(dates)"
   ]
  },
  {
   "cell_type": "markdown",
   "metadata": {},
   "source": [
    "**treaties** pre-defines the frame within which I will look for the data. \n",
    "If you look at web page content using Web Developer Tools in the browser, you will find that all the database information (titles, sides, and dates) can be found within a series of **tr** (table row) tags. I have further specified the class ('text13'), to make sure I get the correct table rows in case the tag is used elsewhere on the page.\n",
    "\n",
    "All subsequent searches will refer to this **treaties** container."
   ]
  },
  {
   "cell_type": "markdown",
   "metadata": {},
   "source": [
    "**sleep** is pausing requests from website. Random pause between 2-10 seconds."
   ]
  },
  {
   "cell_type": "markdown",
   "metadata": {},
   "source": [
    "Within each **tr** tag, there are three **td** (table data) tags. One for the number of the database entry (td[0]). One for the treaty title and the sides involved (td[1]), and one for the dates (td[2]). Note that counting them starts with 0!\n",
    "\n",
    "By referring to the respective **td** tag by their number, I can then further indicate where the text that I want to grab is located within that tag.\n",
    "\n",
    "The title data, for example, is located within an **a** tag that is again contained within a **b** tag. **get_text()** grabs just the text content within."
   ]
  },
  {
   "cell_type": "markdown",
   "metadata": {},
   "source": [
    "### Fill the containers with the scraped data:"
   ]
  },
  {
   "cell_type": "code",
   "execution_count": 7,
   "metadata": {},
   "outputs": [],
   "source": [
    "out_treaties = pd.DataFrame({\n",
    " 'title': treatytitles,\n",
    "'sides': treatysides,\n",
    " 'dates': treatydates\n",
    "})"
   ]
  },
  {
   "cell_type": "markdown",
   "metadata": {},
   "source": [
    "If you keep appending (because you are re-running the code, because something went wrong the first time), it piles up and has double, triple the rows, so delete and recreate containers too:"
   ]
  },
  {
   "cell_type": "code",
   "execution_count": 8,
   "metadata": {},
   "outputs": [],
   "source": [
    "#del(out_treaties)"
   ]
  },
  {
   "cell_type": "markdown",
   "metadata": {},
   "source": [
    "The following code gets rid of all newlines in the dataframe."
   ]
  },
  {
   "cell_type": "code",
   "execution_count": 9,
   "metadata": {},
   "outputs": [],
   "source": [
    "new_treaties = out_treaties.replace('\\n',' ', regex=True)"
   ]
  },
  {
   "cell_type": "markdown",
   "metadata": {},
   "source": [
    "Get a preview of the data"
   ]
  },
  {
   "cell_type": "code",
   "execution_count": 10,
   "metadata": {},
   "outputs": [
    {
     "name": "stdout",
     "output_type": "stream",
     "text": [
      "                                                  title  \\\n",
      "0     Heiratsvertrag von Romans-sur-Isère zw. Charlo...   \n",
      "1                           Friedensvertrag von Ferrara   \n",
      "2     Leonello d'Este ordnet Gefangenenaustausch an ...   \n",
      "3                             Friedensvertrag von Genua   \n",
      "4                                       Friedensvertrag   \n",
      "...                                                 ...   \n",
      "1831                           Zweiter Waffenstillstand   \n",
      "1832                           Dritter Waffenstillstand   \n",
      "1833  Konvention von Hamburg zur Verlängerung des Ha...   \n",
      "1834        Freundschafts- und Handelsvertrag von Genua   \n",
      "1835  Garantieakte von Genf für die Verfassung der R...   \n",
      "\n",
      "                                                  sides        dates  \n",
      "0                         Frankreich, Savoyen - Piemont    1450 I 28  \n",
      "1                        Aragon / Neapel - Sizilien ...   1450 VII 2  \n",
      "2                        Aragon / Neapel - Sizilien ...   1450 VII 2  \n",
      "3                              Genua, Savoyen - Piemont   1450 IX 17  \n",
      "4                            Mailand, Savoyen - Piemont  1450 XII 27  \n",
      "...                                                 ...          ...  \n",
      "1831                                 Dänemark, Schweden   1788 X 16   \n",
      "1832                                 Dänemark, Schweden    1788 XI 5  \n",
      "1833                                Frankreich, Hamburg  1789 III 17  \n",
      "1834                                    Dänemark, Genua   1789 VI 30  \n",
      "1835                     Bern, Frankreich, Sardinien...   1789 XII 9  \n",
      "\n",
      "[1836 rows x 3 columns]\n"
     ]
    }
   ],
   "source": [
    "print(new_treaties)"
   ]
  },
  {
   "cell_type": "markdown",
   "metadata": {},
   "source": [
    "### Export dataframe as csv file\n",
    "\n",
    "If you are happy with the results, you can export the dataframe to a CSV file."
   ]
  },
  {
   "cell_type": "code",
   "execution_count": 11,
   "metadata": {},
   "outputs": [],
   "source": [
    "new_treaties.to_csv('new_treaties_all.csv')"
   ]
  },
  {
   "cell_type": "markdown",
   "metadata": {},
   "source": [
    "## Create Network Data\n",
    "\n",
    "The following code restructures the data obtained from scraping in order to use it for network analysis. In this case, I will create two nodelists and one edgelist from the data in order to generate a bipartite graph with treaties and countries as nodes.\n",
    "\n",
    "One of the challenges with the original data structure is the fact that the *sides* column contains multiple entries. First transform the structure within the sides column."
   ]
  },
  {
   "cell_type": "code",
   "execution_count": 12,
   "metadata": {},
   "outputs": [],
   "source": [
    "sides_lists = new_treaties.sides.str.split(',')         # split strings into list\n",
    "new_treaties.sides = sides_lists                        # replace strings with lists in the dataframe"
   ]
  },
  {
   "cell_type": "code",
   "execution_count": 13,
   "metadata": {},
   "outputs": [
    {
     "data": {
      "text/plain": [
       "0       [                   Frankreich,  Savoyen - Pie...\n",
       "1       [                   Aragon / Neapel - Sizilien...\n",
       "2       [                   Aragon / Neapel - Sizilien...\n",
       "3          [                   Genua,  Savoyen - Piemont]\n",
       "4        [                   Mailand,  Savoyen - Piemont]\n",
       "                              ...                        \n",
       "1831             [                   Dänemark,  Schweden]\n",
       "1832             [                   Dänemark,  Schweden]\n",
       "1833            [                   Frankreich,  Hamburg]\n",
       "1834                [                   Dänemark,  Genua]\n",
       "1835    [                   Bern,  Frankreich,  Sardin...\n",
       "Name: sides, Length: 1836, dtype: object"
      ]
     },
     "execution_count": 13,
     "metadata": {},
     "output_type": "execute_result"
    }
   ],
   "source": [
    "sides_lists"
   ]
  },
  {
   "cell_type": "markdown",
   "metadata": {},
   "source": [
    "The explode method worked best to create a full list of the sides. It duplicates title and dates entries."
   ]
  },
  {
   "cell_type": "code",
   "execution_count": 14,
   "metadata": {},
   "outputs": [],
   "source": [
    "df3 = new_treaties.explode('sides') # explode based on the sides column"
   ]
  },
  {
   "cell_type": "code",
   "execution_count": 15,
   "metadata": {},
   "outputs": [
    {
     "data": {
      "text/html": [
       "<div>\n",
       "<style scoped>\n",
       "    .dataframe tbody tr th:only-of-type {\n",
       "        vertical-align: middle;\n",
       "    }\n",
       "\n",
       "    .dataframe tbody tr th {\n",
       "        vertical-align: top;\n",
       "    }\n",
       "\n",
       "    .dataframe thead th {\n",
       "        text-align: right;\n",
       "    }\n",
       "</style>\n",
       "<table border=\"1\" class=\"dataframe\">\n",
       "  <thead>\n",
       "    <tr style=\"text-align: right;\">\n",
       "      <th></th>\n",
       "      <th>title</th>\n",
       "      <th>sides</th>\n",
       "      <th>dates</th>\n",
       "    </tr>\n",
       "  </thead>\n",
       "  <tbody>\n",
       "    <tr>\n",
       "      <th>0</th>\n",
       "      <td>Heiratsvertrag von Romans-sur-Isère zw. Charlo...</td>\n",
       "      <td>Frankreich</td>\n",
       "      <td>1450 I 28</td>\n",
       "    </tr>\n",
       "    <tr>\n",
       "      <th>0</th>\n",
       "      <td>Heiratsvertrag von Romans-sur-Isère zw. Charlo...</td>\n",
       "      <td>Savoyen - Piemont</td>\n",
       "      <td>1450 I 28</td>\n",
       "    </tr>\n",
       "    <tr>\n",
       "      <th>1</th>\n",
       "      <td>Friedensvertrag von Ferrara</td>\n",
       "      <td>Aragon / Neapel - Sizilien</td>\n",
       "      <td>1450 VII 2</td>\n",
       "    </tr>\n",
       "    <tr>\n",
       "      <th>1</th>\n",
       "      <td>Friedensvertrag von Ferrara</td>\n",
       "      <td>Ferrara – Modena – (Reggio)</td>\n",
       "      <td>1450 VII 2</td>\n",
       "    </tr>\n",
       "    <tr>\n",
       "      <th>1</th>\n",
       "      <td>Friedensvertrag von Ferrara</td>\n",
       "      <td>Venedig</td>\n",
       "      <td>1450 VII 2</td>\n",
       "    </tr>\n",
       "    <tr>\n",
       "      <th>...</th>\n",
       "      <td>...</td>\n",
       "      <td>...</td>\n",
       "      <td>...</td>\n",
       "    </tr>\n",
       "    <tr>\n",
       "      <th>1834</th>\n",
       "      <td>Freundschafts- und Handelsvertrag von Genua</td>\n",
       "      <td>Dänemark</td>\n",
       "      <td>1789 VI 30</td>\n",
       "    </tr>\n",
       "    <tr>\n",
       "      <th>1834</th>\n",
       "      <td>Freundschafts- und Handelsvertrag von Genua</td>\n",
       "      <td>Genua</td>\n",
       "      <td>1789 VI 30</td>\n",
       "    </tr>\n",
       "    <tr>\n",
       "      <th>1835</th>\n",
       "      <td>Garantieakte von Genf für die Verfassung der R...</td>\n",
       "      <td>Bern</td>\n",
       "      <td>1789 XII 9</td>\n",
       "    </tr>\n",
       "    <tr>\n",
       "      <th>1835</th>\n",
       "      <td>Garantieakte von Genf für die Verfassung der R...</td>\n",
       "      <td>Frankreich</td>\n",
       "      <td>1789 XII 9</td>\n",
       "    </tr>\n",
       "    <tr>\n",
       "      <th>1835</th>\n",
       "      <td>Garantieakte von Genf für die Verfassung der R...</td>\n",
       "      <td>Sardinien - Piemont</td>\n",
       "      <td>1789 XII 9</td>\n",
       "    </tr>\n",
       "  </tbody>\n",
       "</table>\n",
       "<p>5312 rows × 3 columns</p>\n",
       "</div>"
      ],
      "text/plain": [
       "                                                  title  \\\n",
       "0     Heiratsvertrag von Romans-sur-Isère zw. Charlo...   \n",
       "0     Heiratsvertrag von Romans-sur-Isère zw. Charlo...   \n",
       "1                           Friedensvertrag von Ferrara   \n",
       "1                           Friedensvertrag von Ferrara   \n",
       "1                           Friedensvertrag von Ferrara   \n",
       "...                                                 ...   \n",
       "1834        Freundschafts- und Handelsvertrag von Genua   \n",
       "1834        Freundschafts- und Handelsvertrag von Genua   \n",
       "1835  Garantieakte von Genf für die Verfassung der R...   \n",
       "1835  Garantieakte von Genf für die Verfassung der R...   \n",
       "1835  Garantieakte von Genf für die Verfassung der R...   \n",
       "\n",
       "                                               sides       dates  \n",
       "0                                         Frankreich   1450 I 28  \n",
       "0                                  Savoyen - Piemont   1450 I 28  \n",
       "1                        Aragon / Neapel - Sizilien   1450 VII 2  \n",
       "1                        Ferrara – Modena – (Reggio)  1450 VII 2  \n",
       "1                                            Venedig  1450 VII 2  \n",
       "...                                              ...         ...  \n",
       "1834                                        Dänemark  1789 VI 30  \n",
       "1834                                           Genua  1789 VI 30  \n",
       "1835                                            Bern  1789 XII 9  \n",
       "1835                                      Frankreich  1789 XII 9  \n",
       "1835                            Sardinien - Piemont   1789 XII 9  \n",
       "\n",
       "[5312 rows x 3 columns]"
      ]
     },
     "execution_count": 15,
     "metadata": {},
     "output_type": "execute_result"
    }
   ],
   "source": [
    "df3"
   ]
  },
  {
   "cell_type": "markdown",
   "metadata": {},
   "source": [
    "Remove whitespace around strings in sides. Avoids false duplicates."
   ]
  },
  {
   "cell_type": "code",
   "execution_count": 16,
   "metadata": {},
   "outputs": [],
   "source": [
    "df3.sides = df3.sides.str.strip()"
   ]
  },
  {
   "cell_type": "markdown",
   "metadata": {},
   "source": [
    "This dataframe will later serve as the basis for the edgelist, but first I will extract the nodelists and add Ids."
   ]
  },
  {
   "cell_type": "markdown",
   "metadata": {},
   "source": [
    "### Extract unique nodes (countries)"
   ]
  },
  {
   "cell_type": "code",
   "execution_count": 17,
   "metadata": {},
   "outputs": [],
   "source": [
    "SideNodes = df3.sides.drop_duplicates().reset_index()"
   ]
  },
  {
   "cell_type": "markdown",
   "metadata": {},
   "source": [
    "Sort them alphabetically:"
   ]
  },
  {
   "cell_type": "code",
   "execution_count": 18,
   "metadata": {},
   "outputs": [
    {
     "data": {
      "text/html": [
       "<div>\n",
       "<style scoped>\n",
       "    .dataframe tbody tr th:only-of-type {\n",
       "        vertical-align: middle;\n",
       "    }\n",
       "\n",
       "    .dataframe tbody tr th {\n",
       "        vertical-align: top;\n",
       "    }\n",
       "\n",
       "    .dataframe thead th {\n",
       "        text-align: right;\n",
       "    }\n",
       "</style>\n",
       "<table border=\"1\" class=\"dataframe\">\n",
       "  <thead>\n",
       "    <tr style=\"text-align: right;\">\n",
       "      <th></th>\n",
       "      <th>index</th>\n",
       "      <th>sides</th>\n",
       "    </tr>\n",
       "  </thead>\n",
       "  <tbody>\n",
       "    <tr>\n",
       "      <th>101</th>\n",
       "      <td>373</td>\n",
       "      <td>Anhalt - Zerbst</td>\n",
       "    </tr>\n",
       "    <tr>\n",
       "      <th>178</th>\n",
       "      <td>1756</td>\n",
       "      <td>Ansbach</td>\n",
       "    </tr>\n",
       "    <tr>\n",
       "      <th>24</th>\n",
       "      <td>34</td>\n",
       "      <td>Appenzell</td>\n",
       "    </tr>\n",
       "    <tr>\n",
       "      <th>139</th>\n",
       "      <td>705</td>\n",
       "      <td>Appenzell Außerrhoden</td>\n",
       "    </tr>\n",
       "    <tr>\n",
       "      <th>104</th>\n",
       "      <td>412</td>\n",
       "      <td>Appenzell Innerrhoden</td>\n",
       "    </tr>\n",
       "    <tr>\n",
       "      <th>...</th>\n",
       "      <td>...</td>\n",
       "      <td>...</td>\n",
       "    </tr>\n",
       "    <tr>\n",
       "      <th>176</th>\n",
       "      <td>1724</td>\n",
       "      <td>Würzburg (Hochstift)</td>\n",
       "    </tr>\n",
       "    <tr>\n",
       "      <th>68</th>\n",
       "      <td>174</td>\n",
       "      <td>Zehngerichtenbund</td>\n",
       "    </tr>\n",
       "    <tr>\n",
       "      <th>19</th>\n",
       "      <td>13</td>\n",
       "      <td>Zug</td>\n",
       "    </tr>\n",
       "    <tr>\n",
       "      <th>20</th>\n",
       "      <td>13</td>\n",
       "      <td>Zürich</td>\n",
       "    </tr>\n",
       "    <tr>\n",
       "      <th>161</th>\n",
       "      <td>1248</td>\n",
       "      <td>Österreichischer</td>\n",
       "    </tr>\n",
       "  </tbody>\n",
       "</table>\n",
       "<p>181 rows × 2 columns</p>\n",
       "</div>"
      ],
      "text/plain": [
       "     index                  sides\n",
       "101    373        Anhalt - Zerbst\n",
       "178   1756                Ansbach\n",
       "24      34              Appenzell\n",
       "139    705  Appenzell Außerrhoden\n",
       "104    412  Appenzell Innerrhoden\n",
       "..     ...                    ...\n",
       "176   1724   Würzburg (Hochstift)\n",
       "68     174      Zehngerichtenbund\n",
       "19      13                    Zug\n",
       "20      13                 Zürich\n",
       "161   1248       Österreichischer\n",
       "\n",
       "[181 rows x 2 columns]"
      ]
     },
     "execution_count": 18,
     "metadata": {},
     "output_type": "execute_result"
    }
   ],
   "source": [
    "SideNodes.sort_values('sides')"
   ]
  },
  {
   "cell_type": "markdown",
   "metadata": {},
   "source": [
    "Add Ids to nodelists and edgelists. Because I want to create a bipartite graph, I am adding alphanumnerical Ids."
   ]
  },
  {
   "cell_type": "code",
   "execution_count": 19,
   "metadata": {},
   "outputs": [],
   "source": [
    "SideNodes['Side_Id'] = SideNodes.index +1"
   ]
  },
  {
   "cell_type": "code",
   "execution_count": 20,
   "metadata": {},
   "outputs": [],
   "source": [
    "SideNodes['IDLetter'] = 'C'"
   ]
  },
  {
   "cell_type": "markdown",
   "metadata": {},
   "source": [
    "Concatenate the 2 columns, convert numbers to strings."
   ]
  },
  {
   "cell_type": "code",
   "execution_count": 21,
   "metadata": {},
   "outputs": [],
   "source": [
    "SideNodes['Side_ID'] = SideNodes[\"IDLetter\"] + SideNodes[\"Side_Id\"].astype(str)"
   ]
  },
  {
   "cell_type": "code",
   "execution_count": 22,
   "metadata": {},
   "outputs": [
    {
     "data": {
      "text/html": [
       "<div>\n",
       "<style scoped>\n",
       "    .dataframe tbody tr th:only-of-type {\n",
       "        vertical-align: middle;\n",
       "    }\n",
       "\n",
       "    .dataframe tbody tr th {\n",
       "        vertical-align: top;\n",
       "    }\n",
       "\n",
       "    .dataframe thead th {\n",
       "        text-align: right;\n",
       "    }\n",
       "</style>\n",
       "<table border=\"1\" class=\"dataframe\">\n",
       "  <thead>\n",
       "    <tr style=\"text-align: right;\">\n",
       "      <th></th>\n",
       "      <th>index</th>\n",
       "      <th>sides</th>\n",
       "      <th>Side_Id</th>\n",
       "      <th>IDLetter</th>\n",
       "      <th>Side_ID</th>\n",
       "    </tr>\n",
       "  </thead>\n",
       "  <tbody>\n",
       "    <tr>\n",
       "      <th>0</th>\n",
       "      <td>0</td>\n",
       "      <td>Frankreich</td>\n",
       "      <td>1</td>\n",
       "      <td>C</td>\n",
       "      <td>C1</td>\n",
       "    </tr>\n",
       "    <tr>\n",
       "      <th>1</th>\n",
       "      <td>0</td>\n",
       "      <td>Savoyen - Piemont</td>\n",
       "      <td>2</td>\n",
       "      <td>C</td>\n",
       "      <td>C2</td>\n",
       "    </tr>\n",
       "    <tr>\n",
       "      <th>2</th>\n",
       "      <td>1</td>\n",
       "      <td>Aragon / Neapel - Sizilien</td>\n",
       "      <td>3</td>\n",
       "      <td>C</td>\n",
       "      <td>C3</td>\n",
       "    </tr>\n",
       "    <tr>\n",
       "      <th>3</th>\n",
       "      <td>1</td>\n",
       "      <td>Ferrara – Modena – (Reggio)</td>\n",
       "      <td>4</td>\n",
       "      <td>C</td>\n",
       "      <td>C4</td>\n",
       "    </tr>\n",
       "    <tr>\n",
       "      <th>4</th>\n",
       "      <td>1</td>\n",
       "      <td>Venedig</td>\n",
       "      <td>5</td>\n",
       "      <td>C</td>\n",
       "      <td>C5</td>\n",
       "    </tr>\n",
       "    <tr>\n",
       "      <th>...</th>\n",
       "      <td>...</td>\n",
       "      <td>...</td>\n",
       "      <td>...</td>\n",
       "      <td>...</td>\n",
       "      <td>...</td>\n",
       "    </tr>\n",
       "    <tr>\n",
       "      <th>176</th>\n",
       "      <td>1724</td>\n",
       "      <td>Würzburg (Hochstift)</td>\n",
       "      <td>177</td>\n",
       "      <td>C</td>\n",
       "      <td>C177</td>\n",
       "    </tr>\n",
       "    <tr>\n",
       "      <th>177</th>\n",
       "      <td>1747</td>\n",
       "      <td>Ragusa</td>\n",
       "      <td>178</td>\n",
       "      <td>C</td>\n",
       "      <td>C178</td>\n",
       "    </tr>\n",
       "    <tr>\n",
       "      <th>178</th>\n",
       "      <td>1756</td>\n",
       "      <td>Ansbach</td>\n",
       "      <td>179</td>\n",
       "      <td>C</td>\n",
       "      <td>C179</td>\n",
       "    </tr>\n",
       "    <tr>\n",
       "      <th>179</th>\n",
       "      <td>1758</td>\n",
       "      <td>Sachsen - Coburg</td>\n",
       "      <td>180</td>\n",
       "      <td>C</td>\n",
       "      <td>C180</td>\n",
       "    </tr>\n",
       "    <tr>\n",
       "      <th>180</th>\n",
       "      <td>1794</td>\n",
       "      <td>Leyen</td>\n",
       "      <td>181</td>\n",
       "      <td>C</td>\n",
       "      <td>C181</td>\n",
       "    </tr>\n",
       "  </tbody>\n",
       "</table>\n",
       "<p>181 rows × 5 columns</p>\n",
       "</div>"
      ],
      "text/plain": [
       "     index                        sides  Side_Id IDLetter Side_ID\n",
       "0        0                   Frankreich        1        C      C1\n",
       "1        0            Savoyen - Piemont        2        C      C2\n",
       "2        1   Aragon / Neapel - Sizilien        3        C      C3\n",
       "3        1  Ferrara – Modena – (Reggio)        4        C      C4\n",
       "4        1                      Venedig        5        C      C5\n",
       "..     ...                          ...      ...      ...     ...\n",
       "176   1724         Würzburg (Hochstift)      177        C    C177\n",
       "177   1747                       Ragusa      178        C    C178\n",
       "178   1756                      Ansbach      179        C    C179\n",
       "179   1758             Sachsen - Coburg      180        C    C180\n",
       "180   1794                        Leyen      181        C    C181\n",
       "\n",
       "[181 rows x 5 columns]"
      ]
     },
     "execution_count": 22,
     "metadata": {},
     "output_type": "execute_result"
    }
   ],
   "source": [
    "SideNodes"
   ]
  },
  {
   "cell_type": "markdown",
   "metadata": {},
   "source": [
    "Select only those columns that you need for the nodelist:"
   ]
  },
  {
   "cell_type": "code",
   "execution_count": 24,
   "metadata": {},
   "outputs": [],
   "source": [
    "Country_nodes = SideNodes.loc[:, [\"Side_ID\", \"sides\", 'Side_Id']]"
   ]
  },
  {
   "cell_type": "code",
   "execution_count": 28,
   "metadata": {},
   "outputs": [],
   "source": [
    "# Country_nodes #preview of country nodes"
   ]
  },
  {
   "cell_type": "markdown",
   "metadata": {},
   "source": [
    "Export country nodes to a CSV file and drop the original index from the dataframe:"
   ]
  },
  {
   "cell_type": "code",
   "execution_count": 26,
   "metadata": {},
   "outputs": [],
   "source": [
    "Country_nodes.to_csv('Country_nodes_all.csv', index= False)"
   ]
  },
  {
   "cell_type": "markdown",
   "metadata": {},
   "source": [
    "### Extract unique nodes (treaties)"
   ]
  },
  {
   "cell_type": "code",
   "execution_count": 29,
   "metadata": {},
   "outputs": [],
   "source": [
    "TreatyNodes = df3.title.drop_duplicates().reset_index()"
   ]
  },
  {
   "cell_type": "code",
   "execution_count": 30,
   "metadata": {},
   "outputs": [],
   "source": [
    "TreatyNodes['Treaty_Id'] = TreatyNodes.index +1"
   ]
  },
  {
   "cell_type": "code",
   "execution_count": 31,
   "metadata": {},
   "outputs": [],
   "source": [
    "TreatyNodes['Letter'] = 'T'"
   ]
  },
  {
   "cell_type": "code",
   "execution_count": 32,
   "metadata": {},
   "outputs": [],
   "source": [
    "TreatyNodes['Treaty_ID'] = TreatyNodes[\"Letter\"] + TreatyNodes[\"Treaty_Id\"].astype(str)"
   ]
  },
  {
   "cell_type": "code",
   "execution_count": 33,
   "metadata": {},
   "outputs": [
    {
     "data": {
      "text/html": [
       "<div>\n",
       "<style scoped>\n",
       "    .dataframe tbody tr th:only-of-type {\n",
       "        vertical-align: middle;\n",
       "    }\n",
       "\n",
       "    .dataframe tbody tr th {\n",
       "        vertical-align: top;\n",
       "    }\n",
       "\n",
       "    .dataframe thead th {\n",
       "        text-align: right;\n",
       "    }\n",
       "</style>\n",
       "<table border=\"1\" class=\"dataframe\">\n",
       "  <thead>\n",
       "    <tr style=\"text-align: right;\">\n",
       "      <th></th>\n",
       "      <th>index</th>\n",
       "      <th>title</th>\n",
       "      <th>Treaty_Id</th>\n",
       "      <th>Letter</th>\n",
       "      <th>Treaty_ID</th>\n",
       "    </tr>\n",
       "  </thead>\n",
       "  <tbody>\n",
       "    <tr>\n",
       "      <th>0</th>\n",
       "      <td>0</td>\n",
       "      <td>Heiratsvertrag von Romans-sur-Isère zw. Charlo...</td>\n",
       "      <td>1</td>\n",
       "      <td>T</td>\n",
       "      <td>T1</td>\n",
       "    </tr>\n",
       "    <tr>\n",
       "      <th>1</th>\n",
       "      <td>1</td>\n",
       "      <td>Friedensvertrag von Ferrara</td>\n",
       "      <td>2</td>\n",
       "      <td>T</td>\n",
       "      <td>T2</td>\n",
       "    </tr>\n",
       "    <tr>\n",
       "      <th>2</th>\n",
       "      <td>2</td>\n",
       "      <td>Leonello d'Este ordnet Gefangenenaustausch an ...</td>\n",
       "      <td>3</td>\n",
       "      <td>T</td>\n",
       "      <td>T3</td>\n",
       "    </tr>\n",
       "    <tr>\n",
       "      <th>3</th>\n",
       "      <td>3</td>\n",
       "      <td>Friedensvertrag von Genua</td>\n",
       "      <td>4</td>\n",
       "      <td>T</td>\n",
       "      <td>T4</td>\n",
       "    </tr>\n",
       "    <tr>\n",
       "      <th>4</th>\n",
       "      <td>4</td>\n",
       "      <td>Friedensvertrag</td>\n",
       "      <td>5</td>\n",
       "      <td>T</td>\n",
       "      <td>T5</td>\n",
       "    </tr>\n",
       "    <tr>\n",
       "      <th>...</th>\n",
       "      <td>...</td>\n",
       "      <td>...</td>\n",
       "      <td>...</td>\n",
       "      <td>...</td>\n",
       "      <td>...</td>\n",
       "    </tr>\n",
       "    <tr>\n",
       "      <th>1457</th>\n",
       "      <td>1831</td>\n",
       "      <td>Zweiter Waffenstillstand</td>\n",
       "      <td>1458</td>\n",
       "      <td>T</td>\n",
       "      <td>T1458</td>\n",
       "    </tr>\n",
       "    <tr>\n",
       "      <th>1458</th>\n",
       "      <td>1832</td>\n",
       "      <td>Dritter Waffenstillstand</td>\n",
       "      <td>1459</td>\n",
       "      <td>T</td>\n",
       "      <td>T1459</td>\n",
       "    </tr>\n",
       "    <tr>\n",
       "      <th>1459</th>\n",
       "      <td>1833</td>\n",
       "      <td>Konvention von Hamburg zur Verlängerung des Ha...</td>\n",
       "      <td>1460</td>\n",
       "      <td>T</td>\n",
       "      <td>T1460</td>\n",
       "    </tr>\n",
       "    <tr>\n",
       "      <th>1460</th>\n",
       "      <td>1834</td>\n",
       "      <td>Freundschafts- und Handelsvertrag von Genua</td>\n",
       "      <td>1461</td>\n",
       "      <td>T</td>\n",
       "      <td>T1461</td>\n",
       "    </tr>\n",
       "    <tr>\n",
       "      <th>1461</th>\n",
       "      <td>1835</td>\n",
       "      <td>Garantieakte von Genf für die Verfassung der R...</td>\n",
       "      <td>1462</td>\n",
       "      <td>T</td>\n",
       "      <td>T1462</td>\n",
       "    </tr>\n",
       "  </tbody>\n",
       "</table>\n",
       "<p>1462 rows × 5 columns</p>\n",
       "</div>"
      ],
      "text/plain": [
       "      index                                              title  Treaty_Id  \\\n",
       "0         0  Heiratsvertrag von Romans-sur-Isère zw. Charlo...          1   \n",
       "1         1                        Friedensvertrag von Ferrara          2   \n",
       "2         2  Leonello d'Este ordnet Gefangenenaustausch an ...          3   \n",
       "3         3                          Friedensvertrag von Genua          4   \n",
       "4         4                                    Friedensvertrag          5   \n",
       "...     ...                                                ...        ...   \n",
       "1457   1831                           Zweiter Waffenstillstand       1458   \n",
       "1458   1832                           Dritter Waffenstillstand       1459   \n",
       "1459   1833  Konvention von Hamburg zur Verlängerung des Ha...       1460   \n",
       "1460   1834        Freundschafts- und Handelsvertrag von Genua       1461   \n",
       "1461   1835  Garantieakte von Genf für die Verfassung der R...       1462   \n",
       "\n",
       "     Letter Treaty_ID  \n",
       "0         T        T1  \n",
       "1         T        T2  \n",
       "2         T        T3  \n",
       "3         T        T4  \n",
       "4         T        T5  \n",
       "...     ...       ...  \n",
       "1457      T     T1458  \n",
       "1458      T     T1459  \n",
       "1459      T     T1460  \n",
       "1460      T     T1461  \n",
       "1461      T     T1462  \n",
       "\n",
       "[1462 rows x 5 columns]"
      ]
     },
     "execution_count": 33,
     "metadata": {},
     "output_type": "execute_result"
    }
   ],
   "source": [
    "TreatyNodes"
   ]
  },
  {
   "cell_type": "code",
   "execution_count": 34,
   "metadata": {},
   "outputs": [],
   "source": [
    "Treaty_nodes = TreatyNodes.loc[:, [\"Treaty_ID\", \"title\", 'Treaty_Id']]"
   ]
  },
  {
   "cell_type": "code",
   "execution_count": 35,
   "metadata": {},
   "outputs": [
    {
     "data": {
      "text/html": [
       "<div>\n",
       "<style scoped>\n",
       "    .dataframe tbody tr th:only-of-type {\n",
       "        vertical-align: middle;\n",
       "    }\n",
       "\n",
       "    .dataframe tbody tr th {\n",
       "        vertical-align: top;\n",
       "    }\n",
       "\n",
       "    .dataframe thead th {\n",
       "        text-align: right;\n",
       "    }\n",
       "</style>\n",
       "<table border=\"1\" class=\"dataframe\">\n",
       "  <thead>\n",
       "    <tr style=\"text-align: right;\">\n",
       "      <th></th>\n",
       "      <th>Treaty_ID</th>\n",
       "      <th>title</th>\n",
       "      <th>Treaty_Id</th>\n",
       "    </tr>\n",
       "  </thead>\n",
       "  <tbody>\n",
       "    <tr>\n",
       "      <th>0</th>\n",
       "      <td>T1</td>\n",
       "      <td>Heiratsvertrag von Romans-sur-Isère zw. Charlo...</td>\n",
       "      <td>1</td>\n",
       "    </tr>\n",
       "    <tr>\n",
       "      <th>1</th>\n",
       "      <td>T2</td>\n",
       "      <td>Friedensvertrag von Ferrara</td>\n",
       "      <td>2</td>\n",
       "    </tr>\n",
       "    <tr>\n",
       "      <th>2</th>\n",
       "      <td>T3</td>\n",
       "      <td>Leonello d'Este ordnet Gefangenenaustausch an ...</td>\n",
       "      <td>3</td>\n",
       "    </tr>\n",
       "    <tr>\n",
       "      <th>3</th>\n",
       "      <td>T4</td>\n",
       "      <td>Friedensvertrag von Genua</td>\n",
       "      <td>4</td>\n",
       "    </tr>\n",
       "    <tr>\n",
       "      <th>4</th>\n",
       "      <td>T5</td>\n",
       "      <td>Friedensvertrag</td>\n",
       "      <td>5</td>\n",
       "    </tr>\n",
       "    <tr>\n",
       "      <th>...</th>\n",
       "      <td>...</td>\n",
       "      <td>...</td>\n",
       "      <td>...</td>\n",
       "    </tr>\n",
       "    <tr>\n",
       "      <th>1457</th>\n",
       "      <td>T1458</td>\n",
       "      <td>Zweiter Waffenstillstand</td>\n",
       "      <td>1458</td>\n",
       "    </tr>\n",
       "    <tr>\n",
       "      <th>1458</th>\n",
       "      <td>T1459</td>\n",
       "      <td>Dritter Waffenstillstand</td>\n",
       "      <td>1459</td>\n",
       "    </tr>\n",
       "    <tr>\n",
       "      <th>1459</th>\n",
       "      <td>T1460</td>\n",
       "      <td>Konvention von Hamburg zur Verlängerung des Ha...</td>\n",
       "      <td>1460</td>\n",
       "    </tr>\n",
       "    <tr>\n",
       "      <th>1460</th>\n",
       "      <td>T1461</td>\n",
       "      <td>Freundschafts- und Handelsvertrag von Genua</td>\n",
       "      <td>1461</td>\n",
       "    </tr>\n",
       "    <tr>\n",
       "      <th>1461</th>\n",
       "      <td>T1462</td>\n",
       "      <td>Garantieakte von Genf für die Verfassung der R...</td>\n",
       "      <td>1462</td>\n",
       "    </tr>\n",
       "  </tbody>\n",
       "</table>\n",
       "<p>1462 rows × 3 columns</p>\n",
       "</div>"
      ],
      "text/plain": [
       "     Treaty_ID                                              title  Treaty_Id\n",
       "0           T1  Heiratsvertrag von Romans-sur-Isère zw. Charlo...          1\n",
       "1           T2                        Friedensvertrag von Ferrara          2\n",
       "2           T3  Leonello d'Este ordnet Gefangenenaustausch an ...          3\n",
       "3           T4                          Friedensvertrag von Genua          4\n",
       "4           T5                                    Friedensvertrag          5\n",
       "...        ...                                                ...        ...\n",
       "1457     T1458                           Zweiter Waffenstillstand       1458\n",
       "1458     T1459                           Dritter Waffenstillstand       1459\n",
       "1459     T1460  Konvention von Hamburg zur Verlängerung des Ha...       1460\n",
       "1460     T1461        Freundschafts- und Handelsvertrag von Genua       1461\n",
       "1461     T1462  Garantieakte von Genf für die Verfassung der R...       1462\n",
       "\n",
       "[1462 rows x 3 columns]"
      ]
     },
     "execution_count": 35,
     "metadata": {},
     "output_type": "execute_result"
    }
   ],
   "source": [
    "Treaty_nodes"
   ]
  },
  {
   "cell_type": "markdown",
   "metadata": {},
   "source": [
    "Export treaty nodes to CSV"
   ]
  },
  {
   "cell_type": "code",
   "execution_count": 36,
   "metadata": {},
   "outputs": [],
   "source": [
    "Treaty_nodes.to_csv('Treaty_nodes_all.csv', index= False)"
   ]
  },
  {
   "cell_type": "markdown",
   "metadata": {},
   "source": [
    "### Create the edgelist\n",
    "Now add Ids to edgelist with left join from both nodelists"
   ]
  },
  {
   "cell_type": "code",
   "execution_count": 37,
   "metadata": {},
   "outputs": [],
   "source": [
    "# Merge DataFrames by Column\n",
    "df4=pd.merge(TreatyNodes,df3, on='title', how='left')"
   ]
  },
  {
   "cell_type": "code",
   "execution_count": 38,
   "metadata": {},
   "outputs": [],
   "source": [
    "df5=pd.merge(SideNodes,df4, on='sides', how='left')"
   ]
  },
  {
   "cell_type": "code",
   "execution_count": 39,
   "metadata": {},
   "outputs": [
    {
     "data": {
      "text/html": [
       "<div>\n",
       "<style scoped>\n",
       "    .dataframe tbody tr th:only-of-type {\n",
       "        vertical-align: middle;\n",
       "    }\n",
       "\n",
       "    .dataframe tbody tr th {\n",
       "        vertical-align: top;\n",
       "    }\n",
       "\n",
       "    .dataframe thead th {\n",
       "        text-align: right;\n",
       "    }\n",
       "</style>\n",
       "<table border=\"1\" class=\"dataframe\">\n",
       "  <thead>\n",
       "    <tr style=\"text-align: right;\">\n",
       "      <th></th>\n",
       "      <th>index_x</th>\n",
       "      <th>sides</th>\n",
       "      <th>Side_Id</th>\n",
       "      <th>IDLetter</th>\n",
       "      <th>Side_ID</th>\n",
       "      <th>index_y</th>\n",
       "      <th>title</th>\n",
       "      <th>Treaty_Id</th>\n",
       "      <th>Letter</th>\n",
       "      <th>Treaty_ID</th>\n",
       "      <th>dates</th>\n",
       "    </tr>\n",
       "  </thead>\n",
       "  <tbody>\n",
       "    <tr>\n",
       "      <th>0</th>\n",
       "      <td>0</td>\n",
       "      <td>Frankreich</td>\n",
       "      <td>1</td>\n",
       "      <td>C</td>\n",
       "      <td>C1</td>\n",
       "      <td>0</td>\n",
       "      <td>Heiratsvertrag von Romans-sur-Isère zw. Charlo...</td>\n",
       "      <td>1</td>\n",
       "      <td>T</td>\n",
       "      <td>T1</td>\n",
       "      <td>1450 I 28</td>\n",
       "    </tr>\n",
       "    <tr>\n",
       "      <th>1</th>\n",
       "      <td>0</td>\n",
       "      <td>Frankreich</td>\n",
       "      <td>1</td>\n",
       "      <td>C</td>\n",
       "      <td>C1</td>\n",
       "      <td>3</td>\n",
       "      <td>Friedensvertrag von Genua</td>\n",
       "      <td>4</td>\n",
       "      <td>T</td>\n",
       "      <td>T4</td>\n",
       "      <td>1466 VIII 21</td>\n",
       "    </tr>\n",
       "    <tr>\n",
       "      <th>2</th>\n",
       "      <td>0</td>\n",
       "      <td>Frankreich</td>\n",
       "      <td>1</td>\n",
       "      <td>C</td>\n",
       "      <td>C1</td>\n",
       "      <td>5</td>\n",
       "      <td>Bündnisvertrag von Chambéry</td>\n",
       "      <td>6</td>\n",
       "      <td>T</td>\n",
       "      <td>T6</td>\n",
       "      <td>1451 III 13</td>\n",
       "    </tr>\n",
       "    <tr>\n",
       "      <th>3</th>\n",
       "      <td>0</td>\n",
       "      <td>Frankreich</td>\n",
       "      <td>1</td>\n",
       "      <td>C</td>\n",
       "      <td>C1</td>\n",
       "      <td>13</td>\n",
       "      <td>Bündnis- und Freundschaftsvertrag, Eidgen. Erk...</td>\n",
       "      <td>14</td>\n",
       "      <td>T</td>\n",
       "      <td>T14</td>\n",
       "      <td>1452 XI 08</td>\n",
       "    </tr>\n",
       "    <tr>\n",
       "      <th>4</th>\n",
       "      <td>0</td>\n",
       "      <td>Frankreich</td>\n",
       "      <td>1</td>\n",
       "      <td>C</td>\n",
       "      <td>C1</td>\n",
       "      <td>15</td>\n",
       "      <td>Bündnis- und Freundschaftsvertrag, kgl. Erklär...</td>\n",
       "      <td>16</td>\n",
       "      <td>T</td>\n",
       "      <td>T16</td>\n",
       "      <td>1453 II 27</td>\n",
       "    </tr>\n",
       "    <tr>\n",
       "      <th>...</th>\n",
       "      <td>...</td>\n",
       "      <td>...</td>\n",
       "      <td>...</td>\n",
       "      <td>...</td>\n",
       "      <td>...</td>\n",
       "      <td>...</td>\n",
       "      <td>...</td>\n",
       "      <td>...</td>\n",
       "      <td>...</td>\n",
       "      <td>...</td>\n",
       "      <td>...</td>\n",
       "    </tr>\n",
       "    <tr>\n",
       "      <th>5307</th>\n",
       "      <td>1724</td>\n",
       "      <td>Würzburg (Hochstift)</td>\n",
       "      <td>177</td>\n",
       "      <td>C</td>\n",
       "      <td>C177</td>\n",
       "      <td>1725</td>\n",
       "      <td>Vertrag von Versailles (betr. Droit d' Aubaine)</td>\n",
       "      <td>1390</td>\n",
       "      <td>T</td>\n",
       "      <td>T1390</td>\n",
       "      <td>1773 VI 1</td>\n",
       "    </tr>\n",
       "    <tr>\n",
       "      <th>5308</th>\n",
       "      <td>1747</td>\n",
       "      <td>Ragusa</td>\n",
       "      <td>178</td>\n",
       "      <td>C</td>\n",
       "      <td>C178</td>\n",
       "      <td>1747</td>\n",
       "      <td>Konvention von Ragusa zu Handel und Schiffahrt</td>\n",
       "      <td>1404</td>\n",
       "      <td>T</td>\n",
       "      <td>T1404</td>\n",
       "      <td>1776 IV 2</td>\n",
       "    </tr>\n",
       "    <tr>\n",
       "      <th>5309</th>\n",
       "      <td>1756</td>\n",
       "      <td>Ansbach</td>\n",
       "      <td>179</td>\n",
       "      <td>C</td>\n",
       "      <td>C179</td>\n",
       "      <td>1701</td>\n",
       "      <td>Versailler Aufhebungsvertrag über das Droit d'...</td>\n",
       "      <td>1371</td>\n",
       "      <td>T</td>\n",
       "      <td>T1371</td>\n",
       "      <td>1778 II 19</td>\n",
       "    </tr>\n",
       "    <tr>\n",
       "      <th>5310</th>\n",
       "      <td>1758</td>\n",
       "      <td>Sachsen - Coburg</td>\n",
       "      <td>180</td>\n",
       "      <td>C</td>\n",
       "      <td>C180</td>\n",
       "      <td>1701</td>\n",
       "      <td>Versailler Aufhebungsvertrag über das Droit d'...</td>\n",
       "      <td>1371</td>\n",
       "      <td>T</td>\n",
       "      <td>T1371</td>\n",
       "      <td>1778 IV 7</td>\n",
       "    </tr>\n",
       "    <tr>\n",
       "      <th>5311</th>\n",
       "      <td>1794</td>\n",
       "      <td>Leyen</td>\n",
       "      <td>181</td>\n",
       "      <td>C</td>\n",
       "      <td>C181</td>\n",
       "      <td>1794</td>\n",
       "      <td>Territorialkonvention von Blieskastel</td>\n",
       "      <td>1433</td>\n",
       "      <td>T</td>\n",
       "      <td>T1433</td>\n",
       "      <td>1781 IX 22</td>\n",
       "    </tr>\n",
       "  </tbody>\n",
       "</table>\n",
       "<p>5312 rows × 11 columns</p>\n",
       "</div>"
      ],
      "text/plain": [
       "      index_x                 sides  Side_Id IDLetter Side_ID  index_y  \\\n",
       "0           0            Frankreich        1        C      C1        0   \n",
       "1           0            Frankreich        1        C      C1        3   \n",
       "2           0            Frankreich        1        C      C1        5   \n",
       "3           0            Frankreich        1        C      C1       13   \n",
       "4           0            Frankreich        1        C      C1       15   \n",
       "...       ...                   ...      ...      ...     ...      ...   \n",
       "5307     1724  Würzburg (Hochstift)      177        C    C177     1725   \n",
       "5308     1747                Ragusa      178        C    C178     1747   \n",
       "5309     1756               Ansbach      179        C    C179     1701   \n",
       "5310     1758      Sachsen - Coburg      180        C    C180     1701   \n",
       "5311     1794                 Leyen      181        C    C181     1794   \n",
       "\n",
       "                                                  title  Treaty_Id Letter  \\\n",
       "0     Heiratsvertrag von Romans-sur-Isère zw. Charlo...          1      T   \n",
       "1                             Friedensvertrag von Genua          4      T   \n",
       "2                           Bündnisvertrag von Chambéry          6      T   \n",
       "3     Bündnis- und Freundschaftsvertrag, Eidgen. Erk...         14      T   \n",
       "4     Bündnis- und Freundschaftsvertrag, kgl. Erklär...         16      T   \n",
       "...                                                 ...        ...    ...   \n",
       "5307    Vertrag von Versailles (betr. Droit d' Aubaine)       1390      T   \n",
       "5308     Konvention von Ragusa zu Handel und Schiffahrt       1404      T   \n",
       "5309  Versailler Aufhebungsvertrag über das Droit d'...       1371      T   \n",
       "5310  Versailler Aufhebungsvertrag über das Droit d'...       1371      T   \n",
       "5311              Territorialkonvention von Blieskastel       1433      T   \n",
       "\n",
       "     Treaty_ID         dates  \n",
       "0           T1     1450 I 28  \n",
       "1           T4  1466 VIII 21  \n",
       "2           T6   1451 III 13  \n",
       "3          T14    1452 XI 08  \n",
       "4          T16    1453 II 27  \n",
       "...        ...           ...  \n",
       "5307     T1390     1773 VI 1  \n",
       "5308     T1404     1776 IV 2  \n",
       "5309     T1371    1778 II 19  \n",
       "5310     T1371     1778 IV 7  \n",
       "5311     T1433    1781 IX 22  \n",
       "\n",
       "[5312 rows x 11 columns]"
      ]
     },
     "execution_count": 39,
     "metadata": {},
     "output_type": "execute_result"
    }
   ],
   "source": [
    "df5"
   ]
  },
  {
   "cell_type": "markdown",
   "metadata": {},
   "source": [
    "Select relevant columns for edgelist."
   ]
  },
  {
   "cell_type": "code",
   "execution_count": 40,
   "metadata": {},
   "outputs": [],
   "source": [
    "Treaty_edges = df5.loc[:, [\"Treaty_ID\", \"Side_ID\", 'dates']]"
   ]
  },
  {
   "cell_type": "code",
   "execution_count": 41,
   "metadata": {},
   "outputs": [
    {
     "data": {
      "text/html": [
       "<div>\n",
       "<style scoped>\n",
       "    .dataframe tbody tr th:only-of-type {\n",
       "        vertical-align: middle;\n",
       "    }\n",
       "\n",
       "    .dataframe tbody tr th {\n",
       "        vertical-align: top;\n",
       "    }\n",
       "\n",
       "    .dataframe thead th {\n",
       "        text-align: right;\n",
       "    }\n",
       "</style>\n",
       "<table border=\"1\" class=\"dataframe\">\n",
       "  <thead>\n",
       "    <tr style=\"text-align: right;\">\n",
       "      <th></th>\n",
       "      <th>Treaty_ID</th>\n",
       "      <th>Side_ID</th>\n",
       "      <th>dates</th>\n",
       "    </tr>\n",
       "  </thead>\n",
       "  <tbody>\n",
       "    <tr>\n",
       "      <th>0</th>\n",
       "      <td>T1</td>\n",
       "      <td>C1</td>\n",
       "      <td>1450 I 28</td>\n",
       "    </tr>\n",
       "    <tr>\n",
       "      <th>1</th>\n",
       "      <td>T4</td>\n",
       "      <td>C1</td>\n",
       "      <td>1466 VIII 21</td>\n",
       "    </tr>\n",
       "    <tr>\n",
       "      <th>2</th>\n",
       "      <td>T6</td>\n",
       "      <td>C1</td>\n",
       "      <td>1451 III 13</td>\n",
       "    </tr>\n",
       "    <tr>\n",
       "      <th>3</th>\n",
       "      <td>T14</td>\n",
       "      <td>C1</td>\n",
       "      <td>1452 XI 08</td>\n",
       "    </tr>\n",
       "    <tr>\n",
       "      <th>4</th>\n",
       "      <td>T16</td>\n",
       "      <td>C1</td>\n",
       "      <td>1453 II 27</td>\n",
       "    </tr>\n",
       "    <tr>\n",
       "      <th>...</th>\n",
       "      <td>...</td>\n",
       "      <td>...</td>\n",
       "      <td>...</td>\n",
       "    </tr>\n",
       "    <tr>\n",
       "      <th>5307</th>\n",
       "      <td>T1390</td>\n",
       "      <td>C177</td>\n",
       "      <td>1773 VI 1</td>\n",
       "    </tr>\n",
       "    <tr>\n",
       "      <th>5308</th>\n",
       "      <td>T1404</td>\n",
       "      <td>C178</td>\n",
       "      <td>1776 IV 2</td>\n",
       "    </tr>\n",
       "    <tr>\n",
       "      <th>5309</th>\n",
       "      <td>T1371</td>\n",
       "      <td>C179</td>\n",
       "      <td>1778 II 19</td>\n",
       "    </tr>\n",
       "    <tr>\n",
       "      <th>5310</th>\n",
       "      <td>T1371</td>\n",
       "      <td>C180</td>\n",
       "      <td>1778 IV 7</td>\n",
       "    </tr>\n",
       "    <tr>\n",
       "      <th>5311</th>\n",
       "      <td>T1433</td>\n",
       "      <td>C181</td>\n",
       "      <td>1781 IX 22</td>\n",
       "    </tr>\n",
       "  </tbody>\n",
       "</table>\n",
       "<p>5312 rows × 3 columns</p>\n",
       "</div>"
      ],
      "text/plain": [
       "     Treaty_ID Side_ID         dates\n",
       "0           T1      C1     1450 I 28\n",
       "1           T4      C1  1466 VIII 21\n",
       "2           T6      C1   1451 III 13\n",
       "3          T14      C1    1452 XI 08\n",
       "4          T16      C1    1453 II 27\n",
       "...        ...     ...           ...\n",
       "5307     T1390    C177     1773 VI 1\n",
       "5308     T1404    C178     1776 IV 2\n",
       "5309     T1371    C179    1778 II 19\n",
       "5310     T1371    C180     1778 IV 7\n",
       "5311     T1433    C181    1781 IX 22\n",
       "\n",
       "[5312 rows x 3 columns]"
      ]
     },
     "execution_count": 41,
     "metadata": {},
     "output_type": "execute_result"
    }
   ],
   "source": [
    "Treaty_edges"
   ]
  },
  {
   "cell_type": "markdown",
   "metadata": {},
   "source": [
    "## Deal with dates\n",
    "The dates are in an inconvenient format that is difficult to process. The month is represented in Roman numerals, which in itself is not a problem (they can be converted into a regular date format), but some dates are given as a time-range, rather than one single date (for example: 1663 VII 24_VIII 3). In this example, I will just export the year to a new column to be able to ise it later. "
   ]
  },
  {
   "cell_type": "code",
   "execution_count": 52,
   "metadata": {},
   "outputs": [],
   "source": [
    "# regex definition get year from the data\n",
    "def get_year(file):\n",
    "  year_match = re.findall(r'(\\d{4})',file)\n",
    "  return year_match[0]"
   ]
  },
  {
   "cell_type": "code",
   "execution_count": 53,
   "metadata": {},
   "outputs": [],
   "source": [
    "# # regex definition get year from the data\n",
    "# def get_year(file):\n",
    "#   year_match = re.findall(r'_(\\d{4})-\\d{2}-\\d{2}_',file)\n",
    "#   return year_match[0]"
   ]
  },
  {
   "cell_type": "markdown",
   "metadata": {},
   "source": [
    "Add year data to a new column"
   ]
  },
  {
   "cell_type": "code",
   "execution_count": 54,
   "metadata": {},
   "outputs": [],
   "source": [
    "Treaty_edges['year'] = Treaty_edges['dates'].apply(lambda x: get_year(x))"
   ]
  },
  {
   "cell_type": "code",
   "execution_count": 58,
   "metadata": {},
   "outputs": [
    {
     "data": {
      "text/html": [
       "<div>\n",
       "<style scoped>\n",
       "    .dataframe tbody tr th:only-of-type {\n",
       "        vertical-align: middle;\n",
       "    }\n",
       "\n",
       "    .dataframe tbody tr th {\n",
       "        vertical-align: top;\n",
       "    }\n",
       "\n",
       "    .dataframe thead th {\n",
       "        text-align: right;\n",
       "    }\n",
       "</style>\n",
       "<table border=\"1\" class=\"dataframe\">\n",
       "  <thead>\n",
       "    <tr style=\"text-align: right;\">\n",
       "      <th></th>\n",
       "      <th>Treaty_ID</th>\n",
       "      <th>Side_ID</th>\n",
       "      <th>dates</th>\n",
       "      <th>year</th>\n",
       "    </tr>\n",
       "  </thead>\n",
       "  <tbody>\n",
       "    <tr>\n",
       "      <th>0</th>\n",
       "      <td>T1</td>\n",
       "      <td>C1</td>\n",
       "      <td>1450 I 28</td>\n",
       "      <td>1450</td>\n",
       "    </tr>\n",
       "    <tr>\n",
       "      <th>910</th>\n",
       "      <td>T2</td>\n",
       "      <td>C4</td>\n",
       "      <td>1450 VII 2</td>\n",
       "      <td>1450</td>\n",
       "    </tr>\n",
       "    <tr>\n",
       "      <th>911</th>\n",
       "      <td>T3</td>\n",
       "      <td>C4</td>\n",
       "      <td>1450 VII 2</td>\n",
       "      <td>1450</td>\n",
       "    </tr>\n",
       "    <tr>\n",
       "      <th>916</th>\n",
       "      <td>T2</td>\n",
       "      <td>C5</td>\n",
       "      <td>1450 VII 2</td>\n",
       "      <td>1450</td>\n",
       "    </tr>\n",
       "    <tr>\n",
       "      <th>917</th>\n",
       "      <td>T3</td>\n",
       "      <td>C5</td>\n",
       "      <td>1450 VII 2</td>\n",
       "      <td>1450</td>\n",
       "    </tr>\n",
       "    <tr>\n",
       "      <th>...</th>\n",
       "      <td>...</td>\n",
       "      <td>...</td>\n",
       "      <td>...</td>\n",
       "      <td>...</td>\n",
       "    </tr>\n",
       "    <tr>\n",
       "      <th>1042</th>\n",
       "      <td>T1461</td>\n",
       "      <td>C6</td>\n",
       "      <td>1789 VI 30</td>\n",
       "      <td>1789</td>\n",
       "    </tr>\n",
       "    <tr>\n",
       "      <th>4967</th>\n",
       "      <td>T1460</td>\n",
       "      <td>C138</td>\n",
       "      <td>1789 III 17</td>\n",
       "      <td>1789</td>\n",
       "    </tr>\n",
       "    <tr>\n",
       "      <th>5282</th>\n",
       "      <td>T1462</td>\n",
       "      <td>C165</td>\n",
       "      <td>1789 XII 9</td>\n",
       "      <td>1789</td>\n",
       "    </tr>\n",
       "    <tr>\n",
       "      <th>1222</th>\n",
       "      <td>T1462</td>\n",
       "      <td>C9</td>\n",
       "      <td>1789 XII 9</td>\n",
       "      <td>1789</td>\n",
       "    </tr>\n",
       "    <tr>\n",
       "      <th>708</th>\n",
       "      <td>T1460</td>\n",
       "      <td>C1</td>\n",
       "      <td>1789 III 17</td>\n",
       "      <td>1789</td>\n",
       "    </tr>\n",
       "  </tbody>\n",
       "</table>\n",
       "<p>5312 rows × 4 columns</p>\n",
       "</div>"
      ],
      "text/plain": [
       "     Treaty_ID Side_ID        dates  year\n",
       "0           T1      C1    1450 I 28  1450\n",
       "910         T2      C4   1450 VII 2  1450\n",
       "911         T3      C4   1450 VII 2  1450\n",
       "916         T2      C5   1450 VII 2  1450\n",
       "917         T3      C5   1450 VII 2  1450\n",
       "...        ...     ...          ...   ...\n",
       "1042     T1461      C6   1789 VI 30  1789\n",
       "4967     T1460    C138  1789 III 17  1789\n",
       "5282     T1462    C165   1789 XII 9  1789\n",
       "1222     T1462      C9   1789 XII 9  1789\n",
       "708      T1460      C1  1789 III 17  1789\n",
       "\n",
       "[5312 rows x 4 columns]"
      ]
     },
     "execution_count": 58,
     "metadata": {},
     "output_type": "execute_result"
    }
   ],
   "source": [
    "Treaty_edges.sort_values('year') #check the new dataframe and sort by year column"
   ]
  },
  {
   "cell_type": "markdown",
   "metadata": {},
   "source": [
    "Export final edgelist to CSV"
   ]
  },
  {
   "cell_type": "code",
   "execution_count": 59,
   "metadata": {},
   "outputs": [],
   "source": [
    "Treaty_edges.to_csv('Treaty_edges_all.csv', index= False)"
   ]
  }
 ],
 "metadata": {
  "interpreter": {
   "hash": "280c8fefae9595bca33c5d42fd7cc8408ede87eb7db18105332f30972f75c42a"
  },
  "kernelspec": {
   "display_name": "Python 3",
   "language": "python",
   "name": "python3"
  },
  "language_info": {
   "codemirror_mode": {
    "name": "ipython",
    "version": 3
   },
   "file_extension": ".py",
   "mimetype": "text/x-python",
   "name": "python",
   "nbconvert_exporter": "python",
   "pygments_lexer": "ipython3",
   "version": "3.8.5"
  }
 },
 "nbformat": 4,
 "nbformat_minor": 4
}
