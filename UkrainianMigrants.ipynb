{
 "cells": [
  {
   "cell_type": "markdown",
   "metadata": {},
   "source": [
    "# Ukrainian Migrants"
   ]
  },
  {
   "cell_type": "code",
   "execution_count": 2,
   "metadata": {},
   "outputs": [],
   "source": [
    "import os\n",
    "import pandas as pd"
   ]
  },
  {
   "cell_type": "code",
   "execution_count": 3,
   "metadata": {},
   "outputs": [],
   "source": [
    "import requests\n",
    "from requests import get\n",
    "from bs4 import BeautifulSoup\n",
    "import numpy as np\n",
    "import pandas as pd\n",
    "import re\n",
    "import csv"
   ]
  },
  {
   "cell_type": "code",
   "execution_count": 4,
   "metadata": {
    "tags": []
   },
   "outputs": [],
   "source": [
    "from bs4 import NavigableString, Tag"
   ]
  },
  {
   "cell_type": "markdown",
   "metadata": {},
   "source": [
    "**re** is not required if you don't use regex to extract text. Python3 works better for this script; Python2 doesn't handle utf-8 too well."
   ]
  },
  {
   "cell_type": "code",
   "execution_count": null,
   "metadata": {},
   "outputs": [],
   "source": [
    "from time import sleep\n",
    "from random import randint"
   ]
  },
  {
   "cell_type": "markdown",
   "metadata": {},
   "source": [
    "This is added to slow down requests rate from the website."
   ]
  },
  {
   "cell_type": "markdown",
   "metadata": {},
   "source": [
    "## Scraping multiple pages"
   ]
  },
  {
   "cell_type": "markdown",
   "metadata": {},
   "source": [
    "### Take a look at the structure of the url links:"
   ]
  },
  {
   "cell_type": "markdown",
   "metadata": {},
   "source": [
    "### 1. page:"
   ]
  },
  {
   "cell_type": "code",
   "execution_count": null,
   "metadata": {},
   "outputs": [],
   "source": [
    "https://www.bac-lac.gc.ca/eng/discover/immigration/immigration-records/immigrants-ukraine-1891-1930/Pages/list.aspx?YearOfImmigration=191*&p_ID=0"
   ]
  },
  {
   "cell_type": "markdown",
   "metadata": {},
   "source": [
    "### 2. page:"
   ]
  },
  {
   "cell_type": "code",
   "execution_count": null,
   "metadata": {},
   "outputs": [],
   "source": [
    "https://www.bac-lac.gc.ca/eng/discover/immigration/immigration-records/immigrants-ukraine-1891-1930/Pages/list.aspx?YearOfImmigration=191*&&p_ID=30"
   ]
  },
  {
   "cell_type": "markdown",
   "metadata": {},
   "source": [
    "### 3. page:"
   ]
  },
  {
   "cell_type": "code",
   "execution_count": null,
   "metadata": {},
   "outputs": [],
   "source": [
    "https://www.bac-lac.gc.ca/eng/discover/immigration/immigration-records/immigrants-ukraine-1891-1930/Pages/list.aspx?YearOfImmigration=191*&p_ID=60"
   ]
  },
  {
   "cell_type": "markdown",
   "metadata": {},
   "source": [
    "### Last page:"
   ]
  },
  {
   "cell_type": "code",
   "execution_count": null,
   "metadata": {},
   "outputs": [],
   "source": [
    "https://www.bac-lac.gc.ca/eng/discover/immigration/immigration-records/immigrants-ukraine-1891-1930/Pages/list.aspx?YearOfImmigration=191*&p_ID=1710"
   ]
  },
  {
   "cell_type": "markdown",
   "metadata": {},
   "source": [
    "With our search in \"YearOfImmigration=191*\" we need to cover multiple pages. \n",
    "- The first part of the url is always the same: \"https://www.bac-lac.gc.ca/eng/discover/immigration/immigration-records/immigrants-ukraine-1891-1930/Pages/list.aspx?YearOfImmigration=191*&p_ID=\", \n",
    "- But the tail differs! It starts with 0, ends with 1710, and changes in steps of 30 (because there are 30 entries per page).\n",
    "\n",
    "Therefore we will create a numpy array that contains all these numbers to add to the static url-head\n",
    "- There are 3 arguments: start, stop, step\n",
    "- The stop urlnumber is not included in a numpy array, so we have to go one step further and set it to 1740"
   ]
  },
  {
   "cell_type": "code",
   "execution_count": 5,
   "metadata": {},
   "outputs": [],
   "source": [
    "urltails = np.arange(0, 1740, 30)"
   ]
  },
  {
   "cell_type": "code",
   "execution_count": 6,
   "metadata": {},
   "outputs": [
    {
     "data": {
      "text/plain": [
       "array([   0,   30,   60,   90,  120,  150,  180,  210,  240,  270,  300,\n",
       "        330,  360,  390,  420,  450,  480,  510,  540,  570,  600,  630,\n",
       "        660,  690,  720,  750,  780,  810,  840,  870,  900,  930,  960,\n",
       "        990, 1020, 1050, 1080, 1110, 1140, 1170, 1200, 1230, 1260, 1290,\n",
       "       1320, 1350, 1380, 1410, 1440, 1470, 1500, 1530, 1560, 1590, 1620,\n",
       "       1650, 1680, 1710])"
      ]
     },
     "execution_count": 6,
     "metadata": {},
     "output_type": "execute_result"
    }
   ],
   "source": [
    "urltails"
   ]
  },
  {
   "cell_type": "markdown",
   "metadata": {},
   "source": [
    "Test with first 5 pages:"
   ]
  },
  {
   "cell_type": "code",
   "execution_count": 7,
   "metadata": {},
   "outputs": [
    {
     "name": "stdout",
     "output_type": "stream",
     "text": [
      "0\n",
      "https://www.bac-lac.gc.ca/eng/discover/immigration/immigration-records/immigrants-ukraine-1891-1930/Pages/list.aspx?YearOfImmigration=191*&p_ID=0\n",
      "30\n",
      "https://www.bac-lac.gc.ca/eng/discover/immigration/immigration-records/immigrants-ukraine-1891-1930/Pages/list.aspx?YearOfImmigration=191*&p_ID=30\n",
      "60\n",
      "https://www.bac-lac.gc.ca/eng/discover/immigration/immigration-records/immigrants-ukraine-1891-1930/Pages/list.aspx?YearOfImmigration=191*&p_ID=60\n",
      "90\n",
      "https://www.bac-lac.gc.ca/eng/discover/immigration/immigration-records/immigrants-ukraine-1891-1930/Pages/list.aspx?YearOfImmigration=191*&p_ID=90\n",
      "120\n",
      "https://www.bac-lac.gc.ca/eng/discover/immigration/immigration-records/immigrants-ukraine-1891-1930/Pages/list.aspx?YearOfImmigration=191*&p_ID=120\n"
     ]
    }
   ],
   "source": [
    "for item in urltails[:5]:\n",
    "    item = str(item) # do the string conversion once\n",
    "    print(item)\n",
    "    page_request = requests.get(\"https://www.bac-lac.gc.ca/eng/discover/immigration/immigration-records/immigrants-ukraine-1891-1930/Pages/list.aspx?YearOfImmigration=191*&p_ID=\" + item)\n",
    "    #page_request.raise_for_status()\n",
    "    #page_request.encoding = \"shiftjis\"\n",
    "    print(page_request.url)"
   ]
  },
  {
   "cell_type": "markdown",
   "metadata": {},
   "source": [
    "Looking good."
   ]
  },
  {
   "cell_type": "markdown",
   "metadata": {},
   "source": [
    "## Initialize empty containers:"
   ]
  },
  {
   "cell_type": "code",
   "execution_count": 12,
   "metadata": {},
   "outputs": [],
   "source": [
    "item_number = []\n",
    "surname = []\n",
    "given_name = []\n",
    "age = []\n",
    "ship = []\n",
    "year_of_immigration = []"
   ]
  },
  {
   "cell_type": "markdown",
   "metadata": {},
   "source": [
    "## Scrape the content:"
   ]
  },
  {
   "cell_type": "code",
   "execution_count": null,
   "metadata": {},
   "outputs": [],
   "source": [
    "#del(out_migrants) #deletes the datafram; use when debugging for example after running the script several times which can result in duplicate entries"
   ]
  },
  {
   "cell_type": "code",
   "execution_count": 32,
   "metadata": {},
   "outputs": [],
   "source": [
    "for item in urltails:\n",
    "    item = str(item) # do the string conversion once\n",
    "    page_request = requests.get(\"https://www.bac-lac.gc.ca/eng/discover/immigration/immigration-records/immigrants-ukraine-1891-1930/Pages/list.aspx?YearOfImmigration=191*&p_ID=\" + item)\n",
    "    soup = BeautifulSoup(page_request.text, features=\"lxml\")\n",
    "    tables = soup.find_all('tbody')\n",
    "    \n",
    "    sleep(10)\n",
    "    \n",
    "    for container in tables:\n",
    "            tablerows = container.find_all(\"tr\")\n",
    "            for row in tablerows:\n",
    "                tabledata = row.find_all(\"td\")\n",
    "            \n",
    "                item_numbers = tabledata[0].get_text(strip=True) if tabledata[0] else '-'\n",
    "                item_number.append(item_numbers)\n",
    "\n",
    "                surnames = tabledata[1].get_text(strip=True) if tabledata[0] else '-'\n",
    "                surname.append(surnames)\n",
    "\n",
    "                given_names = tabledata[2].get_text(strip=True) if tabledata[0] else '-'\n",
    "                given_name.append(given_names)\n",
    "\n",
    "                ages = tabledata[3].get_text(strip=True) if tabledata[0] else '-'\n",
    "                age.append(ages)\n",
    "            \n",
    "                ships = tabledata[4].get_text(strip=True) if tabledata[0] else '-'\n",
    "                ship.append(ships)\n",
    "            \n",
    "                years_of_immigration = tabledata[5].get_text(strip=True) if tabledata[0] else '-'\n",
    "                year_of_immigration.append(years_of_immigration)"
   ]
  },
  {
   "cell_type": "markdown",
   "metadata": {},
   "source": [
    "## Create a dataframe from scraped contents:"
   ]
  },
  {
   "cell_type": "code",
   "execution_count": 33,
   "metadata": {},
   "outputs": [],
   "source": [
    "out_migrants = pd.DataFrame({\n",
    " 'item_number': item_number,\n",
    "    'surname': surname,\n",
    "    'given_name': given_name,\n",
    "    'ship': ship,\n",
    "    'year_of_immigration': year_of_immigration\n",
    "})"
   ]
  },
  {
   "cell_type": "markdown",
   "metadata": {},
   "source": [
    "## Take a look at the output: "
   ]
  },
  {
   "cell_type": "code",
   "execution_count": 34,
   "metadata": {},
   "outputs": [
    {
     "data": {
      "text/html": [
       "<div>\n",
       "<style scoped>\n",
       "    .dataframe tbody tr th:only-of-type {\n",
       "        vertical-align: middle;\n",
       "    }\n",
       "\n",
       "    .dataframe tbody tr th {\n",
       "        vertical-align: top;\n",
       "    }\n",
       "\n",
       "    .dataframe thead th {\n",
       "        text-align: right;\n",
       "    }\n",
       "</style>\n",
       "<table border=\"1\" class=\"dataframe\">\n",
       "  <thead>\n",
       "    <tr style=\"text-align: right;\">\n",
       "      <th></th>\n",
       "      <th>item_number</th>\n",
       "      <th>surname</th>\n",
       "      <th>given_name</th>\n",
       "      <th>ship</th>\n",
       "      <th>year_of_immigration</th>\n",
       "    </tr>\n",
       "  </thead>\n",
       "  <tbody>\n",
       "    <tr>\n",
       "      <th>0</th>\n",
       "      <td>252</td>\n",
       "      <td>Zajonczkowski</td>\n",
       "      <td>Mikal</td>\n",
       "      <td>SICILIAN PRINCE</td>\n",
       "      <td>1910</td>\n",
       "    </tr>\n",
       "    <tr>\n",
       "      <th>1</th>\n",
       "      <td>253</td>\n",
       "      <td>Kasienczuk</td>\n",
       "      <td>Semen</td>\n",
       "      <td>TUNISIAN</td>\n",
       "      <td>1910</td>\n",
       "    </tr>\n",
       "    <tr>\n",
       "      <th>2</th>\n",
       "      <td>254</td>\n",
       "      <td>Zajonczkowski</td>\n",
       "      <td>Wasyl</td>\n",
       "      <td>URANIUM</td>\n",
       "      <td>1910</td>\n",
       "    </tr>\n",
       "    <tr>\n",
       "      <th>3</th>\n",
       "      <td>255</td>\n",
       "      <td>Zajonczkowski</td>\n",
       "      <td>Michal</td>\n",
       "      <td>URANIUM</td>\n",
       "      <td>1910</td>\n",
       "    </tr>\n",
       "    <tr>\n",
       "      <th>4</th>\n",
       "      <td>256</td>\n",
       "      <td>Zajonczkowski</td>\n",
       "      <td>Paraska</td>\n",
       "      <td>URANIUM</td>\n",
       "      <td>1910</td>\n",
       "    </tr>\n",
       "    <tr>\n",
       "      <th>...</th>\n",
       "      <td>...</td>\n",
       "      <td>...</td>\n",
       "      <td>...</td>\n",
       "      <td>...</td>\n",
       "      <td>...</td>\n",
       "    </tr>\n",
       "    <tr>\n",
       "      <th>1708</th>\n",
       "      <td>5813</td>\n",
       "      <td>Nowsielskyj</td>\n",
       "      <td>Petro</td>\n",
       "      <td>PRESIDENT LINCOLN</td>\n",
       "      <td>1910</td>\n",
       "    </tr>\n",
       "    <tr>\n",
       "      <th>1709</th>\n",
       "      <td>5814</td>\n",
       "      <td>Nowosielskyj</td>\n",
       "      <td>Fedor</td>\n",
       "      <td>PRESIDENT LINCOLN</td>\n",
       "      <td>1910</td>\n",
       "    </tr>\n",
       "    <tr>\n",
       "      <th>1710</th>\n",
       "      <td>5908</td>\n",
       "      <td>Laluk</td>\n",
       "      <td>Dmytro</td>\n",
       "      <td>NOORDAM</td>\n",
       "      <td>1914</td>\n",
       "    </tr>\n",
       "    <tr>\n",
       "      <th>1711</th>\n",
       "      <td>5909</td>\n",
       "      <td>Laluk</td>\n",
       "      <td>Szymon</td>\n",
       "      <td>BARBAROSSA</td>\n",
       "      <td>1914</td>\n",
       "    </tr>\n",
       "    <tr>\n",
       "      <th>1712</th>\n",
       "      <td>5910</td>\n",
       "      <td>Laluk</td>\n",
       "      <td>Rozalia</td>\n",
       "      <td>BARBAROSSA</td>\n",
       "      <td>1914</td>\n",
       "    </tr>\n",
       "  </tbody>\n",
       "</table>\n",
       "<p>1713 rows × 5 columns</p>\n",
       "</div>"
      ],
      "text/plain": [
       "     item_number        surname given_name               ship  \\\n",
       "0            252  Zajonczkowski      Mikal    SICILIAN PRINCE   \n",
       "1            253     Kasienczuk      Semen           TUNISIAN   \n",
       "2            254  Zajonczkowski      Wasyl            URANIUM   \n",
       "3            255  Zajonczkowski     Michal            URANIUM   \n",
       "4            256  Zajonczkowski    Paraska            URANIUM   \n",
       "...          ...            ...        ...                ...   \n",
       "1708        5813    Nowsielskyj      Petro  PRESIDENT LINCOLN   \n",
       "1709        5814   Nowosielskyj      Fedor  PRESIDENT LINCOLN   \n",
       "1710        5908          Laluk     Dmytro            NOORDAM   \n",
       "1711        5909          Laluk     Szymon         BARBAROSSA   \n",
       "1712        5910          Laluk    Rozalia         BARBAROSSA   \n",
       "\n",
       "     year_of_immigration  \n",
       "0                   1910  \n",
       "1                   1910  \n",
       "2                   1910  \n",
       "3                   1910  \n",
       "4                   1910  \n",
       "...                  ...  \n",
       "1708                1910  \n",
       "1709                1910  \n",
       "1710                1914  \n",
       "1711                1914  \n",
       "1712                1914  \n",
       "\n",
       "[1713 rows x 5 columns]"
      ]
     },
     "execution_count": 34,
     "metadata": {},
     "output_type": "execute_result"
    }
   ],
   "source": [
    "out_migrants"
   ]
  },
  {
   "cell_type": "code",
   "execution_count": 36,
   "metadata": {},
   "outputs": [],
   "source": [
    "ukr_migrants = out_migrants.replace('\\n',' ', regex=True)"
   ]
  },
  {
   "cell_type": "markdown",
   "metadata": {},
   "source": [
    "### Take a look at some of the values in the dataframe. \n",
    "\n",
    "Using a simple value counts function on the 'year_of_immigration' column in the dataframe gives an overview of the number of migrants for each year. "
   ]
  },
  {
   "cell_type": "code",
   "execution_count": 41,
   "metadata": {},
   "outputs": [
    {
     "data": {
      "text/plain": [
       "1912    502\n",
       "1913    415\n",
       "1910    346\n",
       "1914    244\n",
       "1911    206\n",
       "Name: year_of_immigration, dtype: int64"
      ]
     },
     "execution_count": 41,
     "metadata": {},
     "output_type": "execute_result"
    }
   ],
   "source": [
    "ukr_migrants['year_of_immigration'].value_counts() # count occurences of values in column"
   ]
  },
  {
   "cell_type": "markdown",
   "metadata": {},
   "source": [
    "## Export as CSV file:"
   ]
  },
  {
   "cell_type": "code",
   "execution_count": 38,
   "metadata": {},
   "outputs": [],
   "source": [
    "ukr_migrants.to_csv('ukr_migrants.csv', index= False)"
   ]
  },
  {
   "cell_type": "markdown",
   "metadata": {},
   "source": [
    "## Next scraping run with new url-page strucure for individual entries:"
   ]
  },
  {
   "cell_type": "markdown",
   "metadata": {},
   "source": [
    "url sample:"
   ]
  },
  {
   "cell_type": "code",
   "execution_count": null,
   "metadata": {},
   "outputs": [],
   "source": [
    "https://www.bac-lac.gc.ca/eng/discover/immigration/immigration-records/immigrants-ukraine-1891-1930/Pages/item.aspx?IdNumber=252"
   ]
  },
  {
   "cell_type": "code",
   "execution_count": null,
   "metadata": {},
   "outputs": [],
   "source": [
    "https://www.bac-lac.gc.ca/eng/discover/immigration/immigration-records/immigrants-ukraine-1891-1930/Pages/item.aspx?IdNumber=253"
   ]
  },
  {
   "cell_type": "markdown",
   "metadata": {},
   "source": [
    "This time, the only changing part from page to page is the **IdNumber**. We can take those numbers from the 'item_number' column in the dataframe we already created in the previous step (ukr_migrants). We put all these numbers into another numpy array calling it 'url_tails' (with underscore character) this time. If we use the same variable as above ('urltails') those previous numbers would be overwritten. "
   ]
  },
  {
   "cell_type": "code",
   "execution_count": 42,
   "metadata": {},
   "outputs": [],
   "source": [
    "url_endings= ukr_migrants['item_number']"
   ]
  },
  {
   "cell_type": "code",
   "execution_count": 47,
   "metadata": {},
   "outputs": [
    {
     "name": "stdout",
     "output_type": "stream",
     "text": [
      "['252' '253' '254' ... '5908' '5909' '5910']\n"
     ]
    }
   ],
   "source": [
    "url_tails = url_endings.to_numpy()\n",
    "print(url_tails)"
   ]
  },
  {
   "cell_type": "code",
   "execution_count": 56,
   "metadata": {},
   "outputs": [
    {
     "data": {
      "text/plain": [
       "array(['252', '253', '254', ..., '5908', '5909', '5910'], dtype=object)"
      ]
     },
     "execution_count": 56,
     "metadata": {},
     "output_type": "execute_result"
    }
   ],
   "source": [
    "url_tails"
   ]
  },
  {
   "cell_type": "markdown",
   "metadata": {},
   "source": [
    "Do a testrun with the first 5 url pages:"
   ]
  },
  {
   "cell_type": "code",
   "execution_count": 49,
   "metadata": {},
   "outputs": [
    {
     "name": "stdout",
     "output_type": "stream",
     "text": [
      "252 1\n",
      "https://www.bac-lac.gc.ca/eng/discover/immigration/immigration-records/immigrants-ukraine-1891-1930/Pages/item.aspx?IdNumber=252\n",
      "253 2\n",
      "https://www.bac-lac.gc.ca/eng/discover/immigration/immigration-records/immigrants-ukraine-1891-1930/Pages/item.aspx?IdNumber=253\n",
      "254 3\n",
      "https://www.bac-lac.gc.ca/eng/discover/immigration/immigration-records/immigrants-ukraine-1891-1930/Pages/item.aspx?IdNumber=254\n",
      "255 4\n",
      "https://www.bac-lac.gc.ca/eng/discover/immigration/immigration-records/immigrants-ukraine-1891-1930/Pages/item.aspx?IdNumber=255\n",
      "256 5\n",
      "https://www.bac-lac.gc.ca/eng/discover/immigration/immigration-records/immigrants-ukraine-1891-1930/Pages/item.aspx?IdNumber=256\n"
     ]
    }
   ],
   "source": [
    "counter = 1\n",
    "for page_name in url_tails[:5]:\n",
    "    page_name = str(page_name) # do the string conversion once\n",
    "    print(str(page_name), counter)\n",
    "    counter = counter + 1\n",
    "    page_response = requests.get(\"https://www.bac-lac.gc.ca/eng/discover/immigration/immigration-records/immigrants-ukraine-1891-1930/Pages/item.aspx?IdNumber=\" + page_name)\n",
    "    print(page_response.url)   "
   ]
  },
  {
   "cell_type": "markdown",
   "metadata": {},
   "source": [
    "That seems to work. Now the scraping code for the new table. First initialize new containers:"
   ]
  },
  {
   "cell_type": "code",
   "execution_count": 128,
   "metadata": {},
   "outputs": [],
   "source": [
    "given_name = []\n",
    "surname = []\n",
    "age = []\n",
    "ship = []\n",
    "year_of_immigration = []\n",
    "departure_port = []\n",
    "departure_date = []\n",
    "arrival_port = []\n",
    "arrival_date = []\n",
    "destination = []\n",
    "marital_status = []\n",
    "able_to_read_and_write = []\n",
    "occupation = []\n",
    "nationality = []\n",
    "ethnic_group =[]\n",
    "religion = []\n",
    "note = []\n",
    "# page_number = []\n",
    "# book_number = []\n",
    "# file_number = []\n",
    "# volume_number = []\n",
    "# microfilm = []\n",
    "reference = []\n",
    "# MIKAN_number = []\n",
    "item_number = []"
   ]
  },
  {
   "cell_type": "markdown",
   "metadata": {},
   "source": [
    "This is the scraping code for the more detailed table."
   ]
  },
  {
   "cell_type": "code",
   "execution_count": null,
   "metadata": {},
   "outputs": [],
   "source": [
    "counter = 1\n",
    "for page_name in url_tails:\n",
    "    page_name = str(page_name) # do the string conversion once\n",
    "    print(str(page_name), counter)\n",
    "    counter = counter + 1\n",
    "    page_response = requests.get(\"https://www.bac-lac.gc.ca/eng/discover/immigration/immigration-records/immigrants-ukraine-1891-1930/Pages/item.aspx?IdNumber=\" + page_name)\n",
    "    #print(page_response.url)   \n",
    "    soup = BeautifulSoup(page_response.text, features=\"lxml\")\n",
    "    ind_tables = soup.find_all('dl', class_='genapp-definitionlist row')\n",
    "    \n",
    "    sleep(10)\n",
    "    \n",
    "    for container in ind_tables:\n",
    "        given_names = container.find('dt', string=re.compile('Given Name')).find_next('dd').get_text(strip=True) if container.find('dt', string=re.compile('Given Name')) else '-'\n",
    "        given_name.append(given_names)\n",
    "        \n",
    "        surnames = container.find('dt', string=re.compile('Surname:')).find_next('dd').get_text(strip=True) if container.find('dt', string=re.compile('Surname:')) else '-'\n",
    "        surname.append(surnames)\n",
    "        \n",
    "        ages = container.find('dt', string=re.compile('Age:')).find_next('dd').get_text(strip=True) if container.find('dt', string=re.compile('Age:')) else '-'\n",
    "        age.append(ages)\n",
    "        \n",
    "        ships = container.find('dt', string=re.compile('Ship:')).find_next('dd').get_text(strip=True) if container.find('dt', string=re.compile('Ship:')) else '-'\n",
    "        ship.append(ships)\n",
    "        \n",
    "        years_of_immigration = container.find('dt', string=re.compile('Year of Immigration:')).find_next('dd').get_text(strip=True) if container.find('dt', string=re.compile('Year of Immigration:')) else '9999'\n",
    "        year_of_immigration.append(years_of_immigration)\n",
    "        \n",
    "        departure_ports = container.find('dt', string=re.compile('Departure Port:')).find_next('dd').get_text(strip=True) if container.find('dt', string=re.compile('Departure Port:')) else '-'\n",
    "        departure_port.append(departure_ports)\n",
    "        \n",
    "        departure_dates = container.find('dt', string=re.compile('Departure Date:')).find_next('dd').get_text(strip=True) if container.find('dt', string=re.compile('Departure Date:')) else '9999-99-99'\n",
    "        departure_date.append(departure_dates)\n",
    "        \n",
    "        arrival_ports = container.find('dt', string=re.compile('Arrival Port:')).find_next('dd').get_text(strip=True) if container.find('dt', string=re.compile('Arrival Port:')) else '-'\n",
    "        arrival_port.append(arrival_ports)\n",
    "        \n",
    "        arrival_dates = container.find('dt', string=re.compile('Arrival Date:')).find_next('dd').get_text(strip=True) if container.find('dt', string=re.compile('Arrival Date:')) else '9999-99-99'\n",
    "        arrival_date.append(arrival_dates)\n",
    "        \n",
    "        destinations = container.find('dt', string=re.compile('Destination:')).find_next('dd').get_text(strip=True) if container.find('dt', string=re.compile('Destination:')) else '-'\n",
    "        destination.append(destinations)\n",
    "        \n",
    "        marital_statuses = container.find('dt', string=re.compile('Marital Status:')).find_next('dd').get_text(strip=True) if container.find('dt', string=re.compile('Marital Status:')) else '-'\n",
    "        marital_status.append(marital_statuses)\n",
    "        \n",
    "        able_to_read_and_write_info = container.find('dt', string=re.compile('Able to Read and Write:')).find_next('dd').get_text(strip=True) if container.find('dt', string=re.compile('Able to Read and Write:')) else '-'\n",
    "        able_to_read_and_write.append(able_to_read_and_write_info)\n",
    "        \n",
    "        nationalities = container.find('dt', string=re.compile('Nationality:')).find_next('dd').get_text(strip=True) if container.find('dt', string=re.compile('Nationality:')) else '-'\n",
    "        nationality.append(nationalities)\n",
    "        \n",
    "        occupations = container.find('dt', string=re.compile('Occupation:')).find_next('dd').get_text(strip=True) if container.find('dt', string=re.compile('Occupation:')) else '-'\n",
    "        occupation.append(occupations)\n",
    "        \n",
    "        religions = container.find('dt', string=re.compile('Religion:')).find_next('dd').get_text(strip=True) if container.find('dt', string=re.compile('Religion:')) else '-'\n",
    "        religion.append(religions)\n",
    "        \n",
    "        references = container.find('dt', string=re.compile('Reference:')).find_next('dd').get_text(strip=True) if container.find('dt', string=re.compile('Reference:')) else '-'\n",
    "        reference.append(references)\n",
    "        \n",
    "        item_numbers = container.find('dt', string=re.compile('Item Number:')).find_next('dd').get_text(strip=True) if container.find('dt', string=re.compile('Item Number:')) else '-'\n",
    "        item_number.append(item_numbers)\n",
    "        \n",
    "        ethnic_groups = container.find('dt', string=re.compile('Ethnic Group:')).find_next('dd').get_text(strip=True) if container.find('dt', string=re.compile('Ethnic Group:')) else '-'\n",
    "        ethnic_group.append(ethnic_groups) #no sample code, but works\n",
    "        \n",
    "        notes = container.find('dt', string=re.compile('Notes:')).find_next('dd').get_text(strip=True) if container.find('dt', string=re.compile('Notes:')) else '-'\n",
    "        note.append(notes) #no sample code, but works"
   ]
  },
  {
   "cell_type": "markdown",
   "metadata": {},
   "source": [
    "## Fill our new dataframe with the scraped content:"
   ]
  },
  {
   "cell_type": "code",
   "execution_count": 130,
   "metadata": {},
   "outputs": [],
   "source": [
    "ind_migrants = pd.DataFrame({\n",
    "'given_name': given_name,\n",
    "'surname': surname,\n",
    "'age': age,\n",
    "'ship': ship,\n",
    "'year_of_immigration': year_of_immigration,\n",
    "'departure_port': departure_port,\n",
    "'departure_date': departure_date,\n",
    "'arrival_port': arrival_port,\n",
    "'arrival_date': arrival_date,\n",
    "'destination': destination,\n",
    "'marital_status': marital_status,\n",
    "'able_to_read_and_write': able_to_read_and_write,\n",
    "'occupation': occupation,\n",
    "'nationality': nationality,\n",
    "'ethnic_group': ethnic_group,\n",
    "'religion': religion,\n",
    "'note': note,\n",
    "# 'page_number': page_number,\n",
    "# 'book_number': book_number,\n",
    "# 'file_number': file_number,\n",
    "# 'volume_number': volume_number,\n",
    "# 'microfilm': microfilm,\n",
    "'reference': reference,\n",
    "# 'MIKAN_number': MIKAN_number,\n",
    "    'item_number': item_number\n",
    "})"
   ]
  },
  {
   "cell_type": "code",
   "execution_count": 1,
   "metadata": {},
   "outputs": [],
   "source": [
    "#del(ind_migrants)"
   ]
  },
  {
   "cell_type": "markdown",
   "metadata": {},
   "source": [
    "## Take a look at the new output:"
   ]
  },
  {
   "cell_type": "code",
   "execution_count": 176,
   "metadata": {},
   "outputs": [
    {
     "data": {
      "text/html": [
       "<div>\n",
       "<style scoped>\n",
       "    .dataframe tbody tr th:only-of-type {\n",
       "        vertical-align: middle;\n",
       "    }\n",
       "\n",
       "    .dataframe tbody tr th {\n",
       "        vertical-align: top;\n",
       "    }\n",
       "\n",
       "    .dataframe thead th {\n",
       "        text-align: right;\n",
       "    }\n",
       "</style>\n",
       "<table border=\"1\" class=\"dataframe\">\n",
       "  <thead>\n",
       "    <tr style=\"text-align: right;\">\n",
       "      <th></th>\n",
       "      <th>given_name</th>\n",
       "      <th>surname</th>\n",
       "      <th>age</th>\n",
       "      <th>ship</th>\n",
       "      <th>year_of_immigration</th>\n",
       "      <th>departure_port</th>\n",
       "      <th>departure_date</th>\n",
       "      <th>arrival_port</th>\n",
       "      <th>arrival_date</th>\n",
       "      <th>destination</th>\n",
       "      <th>marital_status</th>\n",
       "      <th>able_to_read_and_write</th>\n",
       "      <th>occupation</th>\n",
       "      <th>nationality</th>\n",
       "      <th>ethnic_group</th>\n",
       "      <th>religion</th>\n",
       "      <th>note</th>\n",
       "      <th>reference</th>\n",
       "      <th>item_number</th>\n",
       "    </tr>\n",
       "  </thead>\n",
       "  <tbody>\n",
       "    <tr>\n",
       "      <th>0</th>\n",
       "      <td>Mikal</td>\n",
       "      <td>Zajonczkowski</td>\n",
       "      <td>44</td>\n",
       "      <td>SICILIAN PRINCE</td>\n",
       "      <td>1910</td>\n",
       "      <td>Rotterdam</td>\n",
       "      <td>1910-03-01</td>\n",
       "      <td>Halifax, Nova Scotia</td>\n",
       "      <td>1910-03-13</td>\n",
       "      <td>Montreal, Quebec</td>\n",
       "      <td>Married</td>\n",
       "      <td>No</td>\n",
       "      <td>General Labourer</td>\n",
       "      <td>Austrian (Galician)</td>\n",
       "      <td>-</td>\n",
       "      <td>Roman Catholic</td>\n",
       "      <td>-</td>\n",
       "      <td>RG76 C1b, Passengers Lists, Halifax, Nova Scotia</td>\n",
       "      <td>252</td>\n",
       "    </tr>\n",
       "    <tr>\n",
       "      <th>1</th>\n",
       "      <td>Semen</td>\n",
       "      <td>Kasienczuk</td>\n",
       "      <td>32</td>\n",
       "      <td>TUNISIAN</td>\n",
       "      <td>1910</td>\n",
       "      <td>Liverpool</td>\n",
       "      <td>1910-04-07</td>\n",
       "      <td>Halifax, Nova Scotia</td>\n",
       "      <td>1910-04-15</td>\n",
       "      <td>Montreal, Quebec</td>\n",
       "      <td>Married</td>\n",
       "      <td>Yes</td>\n",
       "      <td>General Labourer</td>\n",
       "      <td>Austrian (Galician)</td>\n",
       "      <td>Ruthenian</td>\n",
       "      <td>-</td>\n",
       "      <td>-</td>\n",
       "      <td>RG76 C1b, Passengers Lists, Halifax, Nova Scotia</td>\n",
       "      <td>253</td>\n",
       "    </tr>\n",
       "    <tr>\n",
       "      <th>2</th>\n",
       "      <td>Wasyl</td>\n",
       "      <td>Zajonczkowski</td>\n",
       "      <td>37</td>\n",
       "      <td>URANIUM</td>\n",
       "      <td>1910</td>\n",
       "      <td>Rotterdam</td>\n",
       "      <td>1910-04-09</td>\n",
       "      <td>Halifax, Nova Scotia</td>\n",
       "      <td>1910-04-20</td>\n",
       "      <td>Duck Lake, Saskatchewan</td>\n",
       "      <td>Married</td>\n",
       "      <td>No</td>\n",
       "      <td>Labourer, Farm Labourer</td>\n",
       "      <td>Austrian</td>\n",
       "      <td>Ruthenian</td>\n",
       "      <td>Roman Catholic</td>\n",
       "      <td>-</td>\n",
       "      <td>RG76 C1b, Passengers Lists, Halifax, Nova Scotia</td>\n",
       "      <td>254</td>\n",
       "    </tr>\n",
       "    <tr>\n",
       "      <th>3</th>\n",
       "      <td>Michal</td>\n",
       "      <td>Zajonczkowski</td>\n",
       "      <td>50</td>\n",
       "      <td>URANIUM</td>\n",
       "      <td>1910</td>\n",
       "      <td>Rotterdam</td>\n",
       "      <td>1910-04-09</td>\n",
       "      <td>Halifax, Nova Scotia</td>\n",
       "      <td>1910-04-20</td>\n",
       "      <td>Duck Lake, Saskatchewan</td>\n",
       "      <td>Married</td>\n",
       "      <td>No</td>\n",
       "      <td>Labourer</td>\n",
       "      <td>Austrian</td>\n",
       "      <td>Ruthenian</td>\n",
       "      <td>Roman Catholic</td>\n",
       "      <td>-</td>\n",
       "      <td>RG76 C1b, Passengers Lists, Halifax, Nova Scotia</td>\n",
       "      <td>255</td>\n",
       "    </tr>\n",
       "    <tr>\n",
       "      <th>4</th>\n",
       "      <td>Paraska</td>\n",
       "      <td>Zajonczkowski</td>\n",
       "      <td>45</td>\n",
       "      <td>URANIUM</td>\n",
       "      <td>1910</td>\n",
       "      <td>Rotterdam</td>\n",
       "      <td>1910-04-09</td>\n",
       "      <td>Halifax, Nova Scotia</td>\n",
       "      <td>1910-04-20</td>\n",
       "      <td>Duck Lake, Saskatchewan</td>\n",
       "      <td>Married</td>\n",
       "      <td>-</td>\n",
       "      <td>-</td>\n",
       "      <td>Austrian</td>\n",
       "      <td>Ruthenian</td>\n",
       "      <td>-</td>\n",
       "      <td>-</td>\n",
       "      <td>RG76 C1b, Passengers Lists, Halifax, Nova Scotia</td>\n",
       "      <td>256</td>\n",
       "    </tr>\n",
       "    <tr>\n",
       "      <th>...</th>\n",
       "      <td>...</td>\n",
       "      <td>...</td>\n",
       "      <td>...</td>\n",
       "      <td>...</td>\n",
       "      <td>...</td>\n",
       "      <td>...</td>\n",
       "      <td>...</td>\n",
       "      <td>...</td>\n",
       "      <td>...</td>\n",
       "      <td>...</td>\n",
       "      <td>...</td>\n",
       "      <td>...</td>\n",
       "      <td>...</td>\n",
       "      <td>...</td>\n",
       "      <td>...</td>\n",
       "      <td>...</td>\n",
       "      <td>...</td>\n",
       "      <td>...</td>\n",
       "      <td>...</td>\n",
       "    </tr>\n",
       "    <tr>\n",
       "      <th>1708</th>\n",
       "      <td>Petro</td>\n",
       "      <td>Nowsielskyj</td>\n",
       "      <td>18</td>\n",
       "      <td>PRESIDENT LINCOLN</td>\n",
       "      <td>1910</td>\n",
       "      <td>Hamburg</td>\n",
       "      <td>1910-04-02</td>\n",
       "      <td>New York</td>\n",
       "      <td>1910-04-14</td>\n",
       "      <td>Montreal, Quebec</td>\n",
       "      <td>Single</td>\n",
       "      <td>Yes</td>\n",
       "      <td>Farm labourer</td>\n",
       "      <td>Austrian</td>\n",
       "      <td>Polish</td>\n",
       "      <td>-</td>\n",
       "      <td>-</td>\n",
       "      <td>RG76, Passengers Lists, New York, United State...</td>\n",
       "      <td>5813</td>\n",
       "    </tr>\n",
       "    <tr>\n",
       "      <th>1709</th>\n",
       "      <td>Fedor</td>\n",
       "      <td>Nowosielskyj</td>\n",
       "      <td>18</td>\n",
       "      <td>PRESIDENT LINCOLN</td>\n",
       "      <td>1910</td>\n",
       "      <td>Hamburg</td>\n",
       "      <td>1910-04-02</td>\n",
       "      <td>New York</td>\n",
       "      <td>1910-04-14</td>\n",
       "      <td>Montreal, Quebec</td>\n",
       "      <td>Single</td>\n",
       "      <td>No</td>\n",
       "      <td>Farm labourer</td>\n",
       "      <td>Austrian</td>\n",
       "      <td>Polish</td>\n",
       "      <td>-</td>\n",
       "      <td>-</td>\n",
       "      <td>RG76, Passengers Lists, New York, United State...</td>\n",
       "      <td>5814</td>\n",
       "    </tr>\n",
       "    <tr>\n",
       "      <th>1710</th>\n",
       "      <td>Dmytro</td>\n",
       "      <td>Laluk</td>\n",
       "      <td>17</td>\n",
       "      <td>NOORDAM</td>\n",
       "      <td>1914</td>\n",
       "      <td>Rotterdam</td>\n",
       "      <td>1914-02-14</td>\n",
       "      <td>Halifax, Nova Scotia</td>\n",
       "      <td>1914-02-24</td>\n",
       "      <td>Montreal, Quebec</td>\n",
       "      <td>Single</td>\n",
       "      <td>Yes</td>\n",
       "      <td>Farm Hand</td>\n",
       "      <td>Austrian</td>\n",
       "      <td>Polish</td>\n",
       "      <td>Catholic</td>\n",
       "      <td>p 7 line 18</td>\n",
       "      <td>RG76 C1b, Passengers Lists, Halifax, Nova Scotia</td>\n",
       "      <td>5908</td>\n",
       "    </tr>\n",
       "    <tr>\n",
       "      <th>1711</th>\n",
       "      <td>Szymon</td>\n",
       "      <td>Laluk</td>\n",
       "      <td>27</td>\n",
       "      <td>BARBAROSSA</td>\n",
       "      <td>1914</td>\n",
       "      <td>Bremerhaven</td>\n",
       "      <td>1914-03-14</td>\n",
       "      <td>Halifax, Nova Scotia</td>\n",
       "      <td>1914-03-26</td>\n",
       "      <td>Montreal, Quebec</td>\n",
       "      <td>Married</td>\n",
       "      <td>Yes</td>\n",
       "      <td>General Labourer</td>\n",
       "      <td>Austrian</td>\n",
       "      <td>Polish</td>\n",
       "      <td>Greek Catholic</td>\n",
       "      <td>p 10 line 27 Orest Reshitnyks maternal grandpa...</td>\n",
       "      <td>RG76 C1b, Passengers Lists, Halifax, Nova Scotia</td>\n",
       "      <td>5909</td>\n",
       "    </tr>\n",
       "    <tr>\n",
       "      <th>1712</th>\n",
       "      <td>Rozalia</td>\n",
       "      <td>Laluk</td>\n",
       "      <td>20</td>\n",
       "      <td>BARBAROSSA</td>\n",
       "      <td>1914</td>\n",
       "      <td>Bremerhaven</td>\n",
       "      <td>1914-03-14</td>\n",
       "      <td>Halifax, Nova Scotia</td>\n",
       "      <td>1914-03-26</td>\n",
       "      <td>Montreal, Quebec</td>\n",
       "      <td>Married</td>\n",
       "      <td>Yes</td>\n",
       "      <td>Housewife</td>\n",
       "      <td>Austrian</td>\n",
       "      <td>Polish</td>\n",
       "      <td>Greek Catholic</td>\n",
       "      <td>-</td>\n",
       "      <td>RG76 C1b, Passengers Lists, Halifax, Nova Scotia</td>\n",
       "      <td>5910</td>\n",
       "    </tr>\n",
       "  </tbody>\n",
       "</table>\n",
       "<p>1713 rows × 19 columns</p>\n",
       "</div>"
      ],
      "text/plain": [
       "     given_name        surname age               ship year_of_immigration  \\\n",
       "0         Mikal  Zajonczkowski  44    SICILIAN PRINCE                1910   \n",
       "1         Semen     Kasienczuk  32           TUNISIAN                1910   \n",
       "2         Wasyl  Zajonczkowski  37            URANIUM                1910   \n",
       "3        Michal  Zajonczkowski  50            URANIUM                1910   \n",
       "4       Paraska  Zajonczkowski  45            URANIUM                1910   \n",
       "...         ...            ...  ..                ...                 ...   \n",
       "1708      Petro    Nowsielskyj  18  PRESIDENT LINCOLN                1910   \n",
       "1709      Fedor   Nowosielskyj  18  PRESIDENT LINCOLN                1910   \n",
       "1710     Dmytro          Laluk  17            NOORDAM                1914   \n",
       "1711     Szymon          Laluk  27         BARBAROSSA                1914   \n",
       "1712    Rozalia          Laluk  20         BARBAROSSA                1914   \n",
       "\n",
       "     departure_port departure_date          arrival_port arrival_date  \\\n",
       "0         Rotterdam     1910-03-01  Halifax, Nova Scotia   1910-03-13   \n",
       "1         Liverpool     1910-04-07  Halifax, Nova Scotia   1910-04-15   \n",
       "2         Rotterdam     1910-04-09  Halifax, Nova Scotia   1910-04-20   \n",
       "3         Rotterdam     1910-04-09  Halifax, Nova Scotia   1910-04-20   \n",
       "4         Rotterdam     1910-04-09  Halifax, Nova Scotia   1910-04-20   \n",
       "...             ...            ...                   ...          ...   \n",
       "1708        Hamburg     1910-04-02              New York   1910-04-14   \n",
       "1709        Hamburg     1910-04-02              New York   1910-04-14   \n",
       "1710      Rotterdam     1914-02-14  Halifax, Nova Scotia   1914-02-24   \n",
       "1711    Bremerhaven     1914-03-14  Halifax, Nova Scotia   1914-03-26   \n",
       "1712    Bremerhaven     1914-03-14  Halifax, Nova Scotia   1914-03-26   \n",
       "\n",
       "                  destination marital_status able_to_read_and_write  \\\n",
       "0            Montreal, Quebec        Married                     No   \n",
       "1            Montreal, Quebec        Married                    Yes   \n",
       "2     Duck Lake, Saskatchewan        Married                     No   \n",
       "3     Duck Lake, Saskatchewan        Married                     No   \n",
       "4     Duck Lake, Saskatchewan        Married                      -   \n",
       "...                       ...            ...                    ...   \n",
       "1708         Montreal, Quebec         Single                    Yes   \n",
       "1709         Montreal, Quebec         Single                     No   \n",
       "1710         Montreal, Quebec         Single                    Yes   \n",
       "1711         Montreal, Quebec        Married                    Yes   \n",
       "1712         Montreal, Quebec        Married                    Yes   \n",
       "\n",
       "                   occupation          nationality ethnic_group  \\\n",
       "0            General Labourer  Austrian (Galician)            -   \n",
       "1            General Labourer  Austrian (Galician)    Ruthenian   \n",
       "2     Labourer, Farm Labourer             Austrian    Ruthenian   \n",
       "3                    Labourer             Austrian    Ruthenian   \n",
       "4                           -             Austrian    Ruthenian   \n",
       "...                       ...                  ...          ...   \n",
       "1708            Farm labourer             Austrian       Polish   \n",
       "1709            Farm labourer             Austrian       Polish   \n",
       "1710                Farm Hand             Austrian       Polish   \n",
       "1711         General Labourer             Austrian       Polish   \n",
       "1712                Housewife             Austrian       Polish   \n",
       "\n",
       "            religion                                               note  \\\n",
       "0     Roman Catholic                                                  -   \n",
       "1                  -                                                  -   \n",
       "2     Roman Catholic                                                  -   \n",
       "3     Roman Catholic                                                  -   \n",
       "4                  -                                                  -   \n",
       "...              ...                                                ...   \n",
       "1708               -                                                  -   \n",
       "1709               -                                                  -   \n",
       "1710        Catholic                                        p 7 line 18   \n",
       "1711  Greek Catholic  p 10 line 27 Orest Reshitnyks maternal grandpa...   \n",
       "1712  Greek Catholic                                                  -   \n",
       "\n",
       "                                              reference item_number  \n",
       "0      RG76 C1b, Passengers Lists, Halifax, Nova Scotia         252  \n",
       "1      RG76 C1b, Passengers Lists, Halifax, Nova Scotia         253  \n",
       "2      RG76 C1b, Passengers Lists, Halifax, Nova Scotia         254  \n",
       "3      RG76 C1b, Passengers Lists, Halifax, Nova Scotia         255  \n",
       "4      RG76 C1b, Passengers Lists, Halifax, Nova Scotia         256  \n",
       "...                                                 ...         ...  \n",
       "1708  RG76, Passengers Lists, New York, United State...        5813  \n",
       "1709  RG76, Passengers Lists, New York, United State...        5814  \n",
       "1710   RG76 C1b, Passengers Lists, Halifax, Nova Scotia        5908  \n",
       "1711   RG76 C1b, Passengers Lists, Halifax, Nova Scotia        5909  \n",
       "1712   RG76 C1b, Passengers Lists, Halifax, Nova Scotia        5910  \n",
       "\n",
       "[1713 rows x 19 columns]"
      ]
     },
     "execution_count": 176,
     "metadata": {},
     "output_type": "execute_result"
    }
   ],
   "source": [
    "ind_migrants"
   ]
  },
  {
   "cell_type": "markdown",
   "metadata": {},
   "source": [
    "## Disambiguate values (remove typos etc.)"
   ]
  },
  {
   "cell_type": "markdown",
   "metadata": {},
   "source": [
    "### Ethnic group column"
   ]
  },
  {
   "cell_type": "code",
   "execution_count": 177,
   "metadata": {},
   "outputs": [
    {
     "data": {
      "text/plain": [
       "Ruthenian              1144\n",
       "Polish                  172\n",
       "-                       154\n",
       "Russian                 136\n",
       "Bukowinian               38\n",
       "Galician                 26\n",
       "Roumanian                15\n",
       "Austrian                 12\n",
       "Austrian, Ruthenian       5\n",
       "German                    3\n",
       "Austrian, Roumanian       2\n",
       "Scandinavian              1\n",
       "Rutherian                 1\n",
       "Rudinki                   1\n",
       "Austrian, Polish          1\n",
       "Austrian, Russian         1\n",
       "Bulgarian                 1\n",
       "Name: ethnic_group, dtype: int64"
      ]
     },
     "execution_count": 177,
     "metadata": {},
     "output_type": "execute_result"
    }
   ],
   "source": [
    "ind_migrants['ethnic_group'].value_counts()"
   ]
  },
  {
   "cell_type": "code",
   "execution_count": 196,
   "metadata": {},
   "outputs": [],
   "source": [
    "pro_migrants = pro_migrants.replace(['Rutherian'], ['Ruthenian'])"
   ]
  },
  {
   "cell_type": "markdown",
   "metadata": {},
   "source": [
    "### Occupation column"
   ]
  },
  {
   "cell_type": "code",
   "execution_count": 242,
   "metadata": {},
   "outputs": [
    {
     "data": {
      "text/plain": [
       "Farm Labourer                      379\n",
       "General Labourer                   260\n",
       "-                                  252\n",
       "Farm labourer                      200\n",
       "Labourer                            97\n",
       "Railroad Labourer                   87\n",
       "Farm Hand                           84\n",
       "Rail Road Labourer                  76\n",
       "Railroad labourer                   72\n",
       "Domestic                            50\n",
       "Housewife                           28\n",
       "Farmer                              25\n",
       "Servant                             14\n",
       "farmer                               8\n",
       "Miner                                7\n",
       "Railway Labourer                     5\n",
       "railroad labourer                    5\n",
       "Maid Servant                         4\n",
       "Housemaid                            3\n",
       "Labourer, Farm Labourer              3\n",
       "Farming                              3\n",
       "Farm Maid                            3\n",
       "Farm Labourer, General Labourer      3\n",
       "Railway Man                          2\n",
       "miner                                2\n",
       "City Labourer                        2\n",
       "Farm                                 2\n",
       "infant                               2\n",
       "Farmwork                             2\n",
       "Maid servant                         2\n",
       "Factory Labourer                     2\n",
       "servant                              1\n",
       "Locksmith                            1\n",
       "Factory Worker                       1\n",
       "Labourer, General Labourer           1\n",
       "Railway Worker                       1\n",
       "housemaid                            1\n",
       "farm Labourer                        1\n",
       "City Work Labourer                   1\n",
       "Engineer                             1\n",
       "Mason                                1\n",
       "Joiner                               1\n",
       "Factory                              1\n",
       "Tailor                               1\n",
       "Bootmaker                            1\n",
       "Farm Servant                         1\n",
       "Railroad Workman                     1\n",
       "Laborer                              1\n",
       "Teacher                              1\n",
       "Servant Girl                         1\n",
       "Hotel Work                           1\n",
       "Potter                               1\n",
       "Miller                               1\n",
       "Miner - Railroad Labourer            1\n",
       "Blacksmith                           1\n",
       "Day Labourer                         1\n",
       "Landman                              1\n",
       "Gardener                             1\n",
       "Farm Labourer-City Labourer          1\n",
       "Carpenter                            1\n",
       "Name: occupation, dtype: int64"
      ]
     },
     "execution_count": 242,
     "metadata": {},
     "output_type": "execute_result"
    }
   ],
   "source": [
    "ind_migrants['occupation'].value_counts()"
   ]
  },
  {
   "cell_type": "code",
   "execution_count": 180,
   "metadata": {},
   "outputs": [],
   "source": [
    "pro_migrants = ind_migrants.replace(['Farm labourer'], ['Farm Labourer'])"
   ]
  },
  {
   "cell_type": "code",
   "execution_count": 198,
   "metadata": {},
   "outputs": [],
   "source": [
    "pro_migrants = pro_migrants.replace(['Railroad labourer'], ['Railroad Labourer'])"
   ]
  },
  {
   "cell_type": "code",
   "execution_count": 192,
   "metadata": {},
   "outputs": [],
   "source": [
    "pro_migrants = pro_migrants.replace(['Farming'], ['Farmer'])"
   ]
  },
  {
   "cell_type": "code",
   "execution_count": 186,
   "metadata": {},
   "outputs": [],
   "source": [
    "pro_migrants = pro_migrants.replace(['miner'], ['Miner'])"
   ]
  },
  {
   "cell_type": "code",
   "execution_count": 187,
   "metadata": {},
   "outputs": [],
   "source": [
    "pro_migrants = pro_migrants.replace(['Laborer'], ['Labourer'])"
   ]
  },
  {
   "cell_type": "code",
   "execution_count": 188,
   "metadata": {},
   "outputs": [],
   "source": [
    "pro_migrants = pro_migrants.replace(['servant'], ['Servant'])"
   ]
  },
  {
   "cell_type": "code",
   "execution_count": 194,
   "metadata": {},
   "outputs": [],
   "source": [
    "pro_migrants = pro_migrants.replace(['Factory Worker'], ['Factory Labourer'])"
   ]
  },
  {
   "cell_type": "code",
   "execution_count": 245,
   "metadata": {},
   "outputs": [
    {
     "data": {
      "text/plain": [
       "Farm Labourer                      580\n",
       "General Labourer                   260\n",
       "-                                  252\n",
       "Railroad Labourer                  247\n",
       "Labourer                            98\n",
       "Farm Hand                           84\n",
       "Domestic                            50\n",
       "Farmer                              38\n",
       "Housewife                           28\n",
       "Servant                             15\n",
       "Miner                                9\n",
       "Factory Labourer                     4\n",
       "Maid Servant                         4\n",
       "Farm Labourer, General Labourer      3\n",
       "Labourer, Farm Labourer              3\n",
       "Farm Maid                            3\n",
       "Housemaid                            3\n",
       "infant                               2\n",
       "Railway Man                          2\n",
       "City Labourer                        2\n",
       "Farmwork                             2\n",
       "Maid servant                         2\n",
       "Bootmaker                            1\n",
       "Teacher                              1\n",
       "Locksmith                            1\n",
       "housemaid                            1\n",
       "Labourer, General Labourer           1\n",
       "City Work Labourer                   1\n",
       "Engineer                             1\n",
       "Mason                                1\n",
       "Joiner                               1\n",
       "Tailor                               1\n",
       "Servant Girl                         1\n",
       "Farm Servant                         1\n",
       "Hotel Work                           1\n",
       "Potter                               1\n",
       "Miller                               1\n",
       "Miner - Railroad Labourer            1\n",
       "Blacksmith                           1\n",
       "Day Labourer                         1\n",
       "Landman                              1\n",
       "Gardener                             1\n",
       "Farm Labourer-City Labourer          1\n",
       "Carpenter                            1\n",
       "Name: occupation, dtype: int64"
      ]
     },
     "execution_count": 245,
     "metadata": {},
     "output_type": "execute_result"
    }
   ],
   "source": [
    "pro_migrants['occupation'].value_counts()"
   ]
  },
  {
   "cell_type": "markdown",
   "metadata": {},
   "source": [
    "## Deal with dates"
   ]
  },
  {
   "cell_type": "code",
   "execution_count": 244,
   "metadata": {
    "tags": []
   },
   "outputs": [
    {
     "data": {
      "text/plain": [
       "1914-05-15, 16, 19       76\n",
       "1912-04-24               55\n",
       "1914-05-29, 30, 06-01    47\n",
       "1912-06-14, 15, 17       36\n",
       "1913-06-07               32\n",
       "                         ..\n",
       "1910-02-20                1\n",
       "1912-04-26                1\n",
       "1910-05-21                1\n",
       "1910-01-13                1\n",
       "1910-08-11                1\n",
       "Name: departure_date, Length: 323, dtype: int64"
      ]
     },
     "execution_count": 244,
     "metadata": {},
     "output_type": "execute_result"
    }
   ],
   "source": [
    "cai_migrants['departure_date'].value_counts()"
   ]
  },
  {
   "cell_type": "code",
   "execution_count": 234,
   "metadata": {},
   "outputs": [],
   "source": [
    "cai_migrants['corr_departure_date'] = cai_migrants['departure_date'].apply(lambda x: x[0:10])"
   ]
  },
  {
   "cell_type": "code",
   "execution_count": 233,
   "metadata": {},
   "outputs": [],
   "source": [
    "cai_migrants['corr_arrival_date'] = cai_migrants['arrival_date'].apply(lambda x: x[0:10])"
   ]
  },
  {
   "cell_type": "code",
   "execution_count": 227,
   "metadata": {},
   "outputs": [],
   "source": [
    "cai_migrants = cai_migrants.replace(['19112-03-0'], ['1912-03-08'])"
   ]
  },
  {
   "cell_type": "code",
   "execution_count": 236,
   "metadata": {},
   "outputs": [],
   "source": [
    "cai_migrants = cai_migrants.replace(['19010-05-1'], ['1910-05-11'])"
   ]
  },
  {
   "cell_type": "code",
   "execution_count": 232,
   "metadata": {},
   "outputs": [],
   "source": [
    "cai_migrants = cai_migrants.replace(['1911-04126'], ['1911-04-26'])"
   ]
  },
  {
   "cell_type": "code",
   "execution_count": 238,
   "metadata": {},
   "outputs": [],
   "source": [
    "cai_migrants = cai_migrants.replace(['1911-04-126'], ['1911-04-26'])"
   ]
  },
  {
   "cell_type": "code",
   "execution_count": 240,
   "metadata": {},
   "outputs": [],
   "source": [
    "cai_migrants = cai_migrants.replace(['19112-03-0'], ['1912-03-08'])"
   ]
  },
  {
   "cell_type": "code",
   "execution_count": 247,
   "metadata": {},
   "outputs": [
    {
     "data": {
      "text/plain": [
       "1914-05-15    77\n",
       "1912-04-24    55\n",
       "1914-05-29    47\n",
       "1912-06-14    36\n",
       "1913-06-07    32\n",
       "              ..\n",
       "1909-12-29     1\n",
       "1913-08-07     1\n",
       "1913-07-22     1\n",
       "1913-06-09     1\n",
       "1911-06-14     1\n",
       "Name: corr_departure_date, Length: 299, dtype: int64"
      ]
     },
     "execution_count": 247,
     "metadata": {},
     "output_type": "execute_result"
    }
   ],
   "source": [
    "cai_migrants['corr_departure_date'].value_counts()"
   ]
  },
  {
   "cell_type": "markdown",
   "metadata": {},
   "source": [
    "## Export as CSV file"
   ]
  },
  {
   "cell_type": "code",
   "execution_count": 205,
   "metadata": {},
   "outputs": [],
   "source": [
    "cai_migrants = pro_migrants"
   ]
  },
  {
   "cell_type": "code",
   "execution_count": 203,
   "metadata": {},
   "outputs": [],
   "source": [
    "pro_migrants.to_csv('pro_migrants.csv', index= False)"
   ]
  },
  {
   "cell_type": "code",
   "execution_count": 178,
   "metadata": {},
   "outputs": [],
   "source": [
    "ind_migrants.to_csv('ind_migrants.csv', index= False)"
   ]
  },
  {
   "cell_type": "code",
   "execution_count": 241,
   "metadata": {},
   "outputs": [],
   "source": [
    "cai_migrants.to_csv('cai_migrants.csv', index= False)"
   ]
  }
 ],
 "metadata": {
  "kernelspec": {
   "display_name": "Python 3 (ipykernel)",
   "language": "python",
   "name": "python3"
  },
  "language_info": {
   "codemirror_mode": {
    "name": "ipython",
    "version": 3
   },
   "file_extension": ".py",
   "mimetype": "text/x-python",
   "name": "python",
   "nbconvert_exporter": "python",
   "pygments_lexer": "ipython3",
   "version": "3.9.16"
  }
 },
 "nbformat": 4,
 "nbformat_minor": 4
}
